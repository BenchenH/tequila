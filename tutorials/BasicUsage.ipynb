{
 "cells": [
  {
   "cell_type": "markdown",
   "metadata": {},
   "source": [
    "# Tequila Basic Usage"
   ]
  },
  {
   "cell_type": "markdown",
   "metadata": {},
   "source": [
    "## Create and Simulate Quantum Circuits\n",
    "\n",
    "Tequila operators on abstract data types which can be translated and executed on various backends.  \n",
    "In this part of the tutorial we show how to initialize and execute those.\n",
    "\n",
    "First import tequila and check which backends are installed on your system.  \n",
    "If supported backends are not installed you can for most of them just install them with\n",
    "`pip install --upgrade name`  in your command line  \n",
    "If you have old versions of supported backends installed that might get you in trouble.   \n",
    "You can upgrade them with the same command."
   ]
  },
  {
   "cell_type": "code",
   "execution_count": 1,
   "metadata": {},
   "outputs": [
    {
     "name": "stdout",
     "output_type": "stream",
     "text": [
      "backend         | wfn        | sampling   | noise      | installed \n",
      "--------------------------------------------------------------------\n",
      "qulacs          | True       | True       | True       | True      \n",
      "qiskit          | True       | True       | True       | True      \n",
      "cirq            | True       | True       | True       | True      \n",
      "pyquil          | True       | True       | True       | True      \n",
      "symbolic        | True       | False      | False      | True      \n"
     ]
    }
   ],
   "source": [
    "import tequila as tq\n",
    "tq.show_available_simulators()\n",
    "from numpy import pi"
   ]
  },
  {
   "cell_type": "markdown",
   "metadata": {},
   "source": [
    "### Create Simple Circuits"
   ]
  },
  {
   "cell_type": "markdown",
   "metadata": {},
   "source": [
    "Lets create some simple unparametrized circutis.  \n",
    "With unparametrized we mean here, that possible angles in the circuits are fixed.  \n",
    "You can create tequila circuits and gates over the `tq.gates` module.  \n",
    "Gates and circuits can be glued together with the `+` operation.  \n",
    "\n",
    "Gates can receive the keyword arguments `target` and `control` which defines qubit(s) on which the gates act"
   ]
  },
  {
   "cell_type": "code",
   "execution_count": 2,
   "metadata": {},
   "outputs": [],
   "source": [
    "circuit = tq.gates.H(target=0) + tq.gates.CNOT(target=1,control=0)"
   ]
  },
  {
   "cell_type": "markdown",
   "metadata": {},
   "source": [
    "Circuits can be printed out in list-type form or can be drawn by the backends.  \n",
    "The result of tq.draw will depend which backends you have installed.  \n",
    "If you want to draw with a specific backend, just pass the `backend` keyword, e.g. tq.draw(circuit,`backend='cirq'`)"
   ]
  },
  {
   "cell_type": "code",
   "execution_count": 3,
   "metadata": {},
   "outputs": [
    {
     "name": "stdout",
     "output_type": "stream",
     "text": [
      "circuit: \n",
      "H(target=(0,))\n",
      "X(target=(1,), control=(0,))\n",
      "\n"
     ]
    }
   ],
   "source": [
    "print(circuit)"
   ]
  },
  {
   "cell_type": "code",
   "execution_count": 4,
   "metadata": {},
   "outputs": [
    {
     "name": "stdout",
     "output_type": "stream",
     "text": [
      "0: ───H───@───\n",
      "          │\n",
      "1: ───────X───\n"
     ]
    }
   ],
   "source": [
    "tq.draw(circuit)"
   ]
  },
  {
   "cell_type": "markdown",
   "metadata": {},
   "source": [
    "Lets do the same with a list of qubits and see what happens"
   ]
  },
  {
   "cell_type": "code",
   "execution_count": 5,
   "metadata": {},
   "outputs": [
    {
     "name": "stdout",
     "output_type": "stream",
     "text": [
      "0: ───H───@───\n",
      "          │\n",
      "1: ───H───X───\n"
     ]
    }
   ],
   "source": [
    "circuit = tq.gates.H(target=[0,1]) + tq.gates.X(target=1, control=0)\n",
    "tq.draw(circuit)"
   ]
  },
  {
   "cell_type": "markdown",
   "metadata": {},
   "source": [
    "Some gates have to be parametrized by `angle` and some can be parametrized by `power`.  \n",
    "Note that if you use cirq to draw circuits, it will display those in different units. This does not affect the simulation.\n",
    "\n",
    "Tequila uses the standard convention for qubit rotations:\n",
    "$$\n",
    "R_i(\\theta) = e^{-i\\frac{\\theta}{2} \\sigma_i}, \\qquad i \\in \\left\\{ X, Y, Z \\right\\}\n",
    "$$\n",
    "\n",
    "which is carried over for multi-qubit rotations\n",
    "$$\n",
    "R_P(\\theta) = e^{-i\\frac{\\theta}{2} P}\n",
    "$$\n",
    "where $P$ is a paulistring like e.g. $X(0)Y(1)$"
   ]
  },
  {
   "cell_type": "code",
   "execution_count": 6,
   "metadata": {},
   "outputs": [
    {
     "name": "stdout",
     "output_type": "stream",
     "text": [
      "0: ───H──────────@────────────────@───H───────────\n",
      "                 │                │\n",
      "1: ───Rx(0.5π)───X───Rz(0.318π)───X───Rx(-0.5π)───\n"
     ]
    }
   ],
   "source": [
    "# Some further examples\n",
    "circuit0 = tq.gates.Ry(angle=1.0, target=0) + tq.gates.X(target=1, control=0)\n",
    "circuit1 = tq.gates.Y(power=0.5, target=0) + tq.gates.Ry(angle=1.0, target=1, control=0)\n",
    "circuit2 = tq.gates.Rp(angle=1.0, paulistring=\"Y(0)\") + tq.gates.X(target=1, control=0) # acts the same as circuit0\n",
    "circuit3 = tq.gates.Rp(angle=1.0, paulistring=\"X(0)Y(1)\")\n",
    "\n",
    "generator = tq.paulis.Y(0)\n",
    "circuit4 = tq.gates.Trotterized(generators=[generator], angles=[1.0], steps=1) # acts the same as circuit0\n",
    "generator = tq.paulis.X(0)*tq.paulis.Y(1)\n",
    "circuit5 = tq.gates.Trotterized(generators=[generator], angles=[1.0], steps=1) # acts the same as circuit3\n",
    "\n",
    "tq.draw(circuit3)"
   ]
  },
  {
   "cell_type": "markdown",
   "metadata": {},
   "source": [
    "### Simulate and Sample Simple Circuits"
   ]
  },
  {
   "cell_type": "markdown",
   "metadata": {},
   "source": [
    "Lets simulate our last created circuit.  \n",
    "This can be done by the `tq.simulate` function.   \n",
    "The return type is a `QubitWaveFunction`"
   ]
  },
  {
   "cell_type": "code",
   "execution_count": 7,
   "metadata": {},
   "outputs": [
    {
     "name": "stdout",
     "output_type": "stream",
     "text": [
      "+0.5000|00> +0.5000|10> +0.5000|01> +0.5000|11> \n"
     ]
    }
   ],
   "source": [
    "wfn = tq.simulate(circuit)\n",
    "print(wfn)"
   ]
  },
  {
   "cell_type": "markdown",
   "metadata": {},
   "source": [
    "You can control on which backend the simulation is executed with the `backend=name` keyword where name is one of the backends that are installed on your system (see first cell)  "
   ]
  },
  {
   "cell_type": "code",
   "execution_count": 8,
   "metadata": {},
   "outputs": [
    {
     "name": "stdout",
     "output_type": "stream",
     "text": [
      "+0.5000|00> +0.5000|10> +0.5000|01> +0.5000|11> \n"
     ]
    }
   ],
   "source": [
    "# simulate on 'qulacs' backend (which is the default)\n",
    "# Note that this cell will crash if qulacs is not installed\n",
    "# just switch the name with something that is installed on your system (check the first cell)\n",
    "wfn = tq.simulate(circuit, backend='qulacs')\n",
    "print(wfn)"
   ]
  },
  {
   "cell_type": "markdown",
   "metadata": {},
   "source": [
    "If you don't want to simulate a full wavefunction but rather simulate individual samples from it you can pass down the `samples=integer` keyword"
   ]
  },
  {
   "cell_type": "code",
   "execution_count": 9,
   "metadata": {},
   "outputs": [
    {
     "name": "stdout",
     "output_type": "stream",
     "text": [
      "+10.0000|00> \n"
     ]
    }
   ],
   "source": [
    "measurements = tq.simulate(circuit, samples=10)\n",
    "print(measurements)"
   ]
  },
  {
   "cell_type": "markdown",
   "metadata": {},
   "source": [
    "You can access the individual measurements either by integers in binary notation or by binary strings"
   ]
  },
  {
   "cell_type": "code",
   "execution_count": 10,
   "metadata": {},
   "outputs": [
    {
     "name": "stdout",
     "output_type": "stream",
     "text": [
      "10\n",
      "10\n",
      "0.0\n",
      "0.0\n"
     ]
    }
   ],
   "source": [
    "print(measurements(0))\n",
    "print(measurements(\"00\"))\n",
    "print(measurements(2))\n",
    "print(measurements(\"10\"))"
   ]
  },
  {
   "cell_type": "markdown",
   "metadata": {},
   "source": [
    "Individual Measurement instructions can be added to the circuit via `tq.gates.Measurement`"
   ]
  },
  {
   "cell_type": "code",
   "execution_count": 11,
   "metadata": {},
   "outputs": [
    {
     "name": "stdout",
     "output_type": "stream",
     "text": [
      "+2.0000|10> +8.0000|00> \n"
     ]
    }
   ],
   "source": [
    "measurements = tq.simulate(circuit+tq.gates.Measurement(target=[0]), samples=10)\n",
    "print(measurements)"
   ]
  },
  {
   "cell_type": "markdown",
   "metadata": {},
   "source": [
    "### Create Parametrized Circuits\n",
    "\n",
    "Now we will explore how to create parametrized circuits.  \n",
    "This works analogue to the simple circuits before, just that `angle` and `power` can be set to hashable types.  \n",
    "You can either initialize the variable directly or you can create a tequila variable object and use that.  \n",
    "The latter is only important if you intend to pass down a manipulated variable (like for example $a^2$ instead of just $a$)\n",
    "\n",
    "Lets start with something simple: A parametrized rotation on a single qubit.  \n",
    "We will call the variable $a$.  \n",
    "If the circuit gets simulated the value of the variable has to be specified.  \n",
    "This is done by passing down a dictionary holding the names and values of all variables."
   ]
  },
  {
   "cell_type": "code",
   "execution_count": 12,
   "metadata": {},
   "outputs": [
    {
     "name": "stdout",
     "output_type": "stream",
     "text": [
      "+0.2206|0> -0.9754|1> \n"
     ]
    }
   ],
   "source": [
    "# initialize the parametrized circuit\n",
    "circuit = tq.gates.Ry(angle=\"a\", target=0)\n",
    "pi = tq.numpy.pi\n",
    "# set the value we want to simulate\n",
    "variables = {\"a\" : pi**2}\n",
    "wfn = tq.simulate(circuit, variables=variables)\n",
    "print(wfn)"
   ]
  },
  {
   "cell_type": "markdown",
   "metadata": {},
   "source": [
    "You can see if a circuit is parametrized by calling `extract_variables` from the circuit.  \n",
    "Note that if you use the cirq backend to draw the circuit"
   ]
  },
  {
   "cell_type": "code",
   "execution_count": 13,
   "metadata": {},
   "outputs": [
    {
     "name": "stdout",
     "output_type": "stream",
     "text": [
      "circuit has variables:  [a]\n"
     ]
    }
   ],
   "source": [
    "print(\"circuit has variables: \", circuit.extract_variables())"
   ]
  },
  {
   "cell_type": "markdown",
   "metadata": {},
   "source": [
    "Now the same thing a little more sophisticated.  \n",
    "We will parametrized the gate by $a^2$ and also we want the $a$ to be in units of $\\pi$ "
   ]
  },
  {
   "cell_type": "code",
   "execution_count": 14,
   "metadata": {},
   "outputs": [
    {
     "name": "stdout",
     "output_type": "stream",
     "text": [
      "+0.2206|0> -0.9754|1> \n"
     ]
    }
   ],
   "source": [
    "a = tq.Variable(\"a\")\n",
    "\n",
    "circuit = tq.gates.Ry(angle=(a*pi)**2, target=0)\n",
    "\n",
    "# set the value we want to simulate\n",
    "variables = {\"a\" : 1.0}\n",
    "wfn = tq.simulate(circuit, variables=variables)\n",
    "print(wfn)"
   ]
  },
  {
   "cell_type": "markdown",
   "metadata": {},
   "source": [
    "Now the same again with a stronger transformation on the variables:  \n",
    "In general, if you want to apply transformations on Variables (and later on Objectives) this can be done with   \n",
    "`variable.apply(your_function)`.  \n",
    "Here we will take the exponential function of numpy. Note that it is adviced to take those functions from `tq.numpy` since this will be the `jax` numpy used for automaticl differentiation.  \n",
    "By doing so consistently you will avoid potential problems with gradients later."
   ]
  },
  {
   "cell_type": "code",
   "execution_count": 15,
   "metadata": {},
   "outputs": [
    {
     "name": "stdout",
     "output_type": "stream",
     "text": [
      "-0.9856|0> -0.1692|1> \n"
     ]
    }
   ],
   "source": [
    "a = tq.Variable(\"a\")\n",
    "\n",
    "circuit = tq.gates.Ry(angle=((a*pi)**2).apply(tq.numpy.exp), target=0)\n",
    "\n",
    "# set the value we want to simulate\n",
    "variables = {\"a\" : 1.0}\n",
    "wfn = tq.simulate(circuit, variables=variables)\n",
    "print(wfn)"
   ]
  },
  {
   "cell_type": "markdown",
   "metadata": {},
   "source": [
    "Lets do the same thing once more, but this time with a customized transformation (which will do the same as in the last cell)"
   ]
  },
  {
   "cell_type": "code",
   "execution_count": 16,
   "metadata": {},
   "outputs": [
    {
     "name": "stdout",
     "output_type": "stream",
     "text": [
      "-0.9856|0> -0.1692|1> \n"
     ]
    }
   ],
   "source": [
    "# define your own transformation\n",
    "def my_trafo(x):\n",
    "    return tq.numpy.exp(x**2)\n",
    "\n",
    "a = tq.Variable(\"a\")\n",
    "\n",
    "# we will put the variable manipulation here for more overview\n",
    "a = a*pi # a is now in a*pi\n",
    "a = a.apply(my_trafo) # a is now exp((a*pi)**2)\n",
    "\n",
    "circuit = tq.gates.Ry(angle=a, target=0)\n",
    "\n",
    "# set the value we want to simulate\n",
    "variables = {\"a\" : 1.0}\n",
    "wfn = tq.simulate(circuit, variables=variables)\n",
    "print(wfn)"
   ]
  },
  {
   "cell_type": "markdown",
   "metadata": {},
   "source": [
    "Note that you don't have to use strings as variable names.  \n",
    "You can use any hashable type except numeric types since those will be interpeted as fixed numbers.\n",
    "Here is one example using a combination of strings and tuples"
   ]
  },
  {
   "cell_type": "code",
   "execution_count": 17,
   "metadata": {},
   "outputs": [
    {
     "name": "stdout",
     "output_type": "stream",
     "text": [
      "[(1, 'a', 'its a stupid example')]\n",
      "[(1, 2, 3)]\n"
     ]
    }
   ],
   "source": [
    "circuit = tq.gates.Ry(angle=(1,\"a\", \"its a stupid example\"), target=0)\n",
    "print(circuit.extract_variables())\n",
    "circuit = tq.gates.Ry(angle=(1,2,3), target=0)\n",
    "print(circuit.extract_variables())"
   ]
  },
  {
   "cell_type": "markdown",
   "metadata": {},
   "source": [
    "## Create and Simulate Objectives/Expectationvalues"
   ]
  },
  {
   "cell_type": "markdown",
   "metadata": {},
   "source": [
    "Within tequila you can define qubit operators which can either be used to generate gates and circuits over `tq.gates.Rp`, `tq.gates.Trotterized` or `tq.gates.GeneralizedRotation` or as Hamiltonians defining the measurements on the quantum experiments. \n",
    "\n",
    "`QCircuit` and `QubitHamiltonian` objects can be combined to expectation values which can be combined and transformed to become more general `Objectives` (in tequila an expectation value is already objective in its simplest form).\n",
    "\n",
    "We will start by demonstrating this with a simple one qubit example.  \n",
    "We will take the one qubit rotation gate from previous sections and use a simple pauli operator as hamiltonian.\n",
    "So our expectation value will be:  \n",
    "\n",
    "$$\n",
    "E = \\langle\\Psi(a)\\rvert H \\lvert\\Psi(a) \\rangle = \\langle0\\rvert U^\\dagger\\left(a\\right) H  U\\left(a\\right) \\lvert 0\\rangle = \\langle H \\rangle_{ U\\left(a\\right)}\n",
    "$$  \n",
    "  \n",
    "where $H = \\sigma_x = X $ and $ U\\left(a\\right) = Ry(a)$"
   ]
  },
  {
   "cell_type": "code",
   "execution_count": 18,
   "metadata": {},
   "outputs": [
    {
     "name": "stdout",
     "output_type": "stream",
     "text": [
      "Hamiltonian  +1.0000X(0)\n",
      "VectorObjective with 1 unique expectation values\n",
      "variables = [a]\n",
      "types     = not compiled\n"
     ]
    }
   ],
   "source": [
    "# the circuit\n",
    "U = tq.gates.Ry(angle=\"a\", target=0)\n",
    "# the Hamiltonian\n",
    "H = tq.paulis.X(0)\n",
    "# the VectorObjective (a single expectation value)\n",
    "E = tq.ExpectationValue(H=H, U=U)\n",
    "print(\"Hamiltonian \", H)\n",
    "print(E)"
   ]
  },
  {
   "cell_type": "code",
   "execution_count": 19,
   "metadata": {},
   "outputs": [
    {
     "name": "stdout",
     "output_type": "stream",
     "text": [
      "VectorObjective with 1 unique expectation values\n",
      "variables = [a]\n",
      "types     = not compiled\n",
      "\n",
      "Expectation Value 0\n",
      "Hamiltonian :  (+1.0000X(0),)\n",
      "variables :  [a]\n",
      "circuit:\n",
      "\n",
      "0: ───Ry(0.318309886183791*pi*f((a,))_0)───\n"
     ]
    }
   ],
   "source": [
    "# better not use it for large objectives\n",
    "tq.draw(E)"
   ]
  },
  {
   "cell_type": "markdown",
   "metadata": {},
   "source": [
    "Lets simulate the objective for some choices of our variable.  \n",
    "Note that the simulate function is the same as before for the circuits, you can use the `backend` and `sample` key in the same way.  \n",
    "\n",
    "Since the objective is defined with parametrized quantum circuits, the values of the variables have to be passed down in the same way as before.  \n",
    "\n",
    "Note that not all expectationvalues in the objective need to be parametrized and that the parameters don't need to be the same.  "
   ]
  },
  {
   "cell_type": "code",
   "execution_count": 20,
   "metadata": {},
   "outputs": [
    {
     "name": "stdout",
     "output_type": "stream",
     "text": [
      "VectorObjective(1.0) = 0.8414709848078965\n"
     ]
    }
   ],
   "source": [
    "variables = {\"a\": 1.0}\n",
    "value = tq.simulate(E, variables=variables)\n",
    "print(\"VectorObjective({}) = {}\".format(variables[\"a\"], value))"
   ]
  },
  {
   "cell_type": "markdown",
   "metadata": {},
   "source": [
    "Here are some more intuitive examples of Hamiltonians.  \n",
    "Note that those operators are not automatically hermitian.  \n",
    "You can use the `split` function to get the hermitian and/or antihermitian part  \n",
    "Check also the `FAQ` notebook for some more information."
   ]
  },
  {
   "cell_type": "code",
   "execution_count": 21,
   "metadata": {},
   "outputs": [
    {
     "name": "stdout",
     "output_type": "stream",
     "text": [
      "+1.0000X(0)X(1)X(2)X(3)+1.0000Y(2)+1.0000Z(0)Z(1)X(2)  is hermitian =  True\n",
      "+1.4142e^(-0.2500πi)X(0)  is hermitian =  False\n",
      "hermitian part      =  +1.0000X(0)\n",
      "anti-hermitian part =  -1.0000iX(0)\n",
      "+0.2500+0.2500Z(1)+0.2500Z(0)+0.2500Z(0)Z(1)  is hermitian =  True\n",
      "+0.5000+0.5000Z(0)Z(1)+0.5000X(0)X(1)-0.5000Y(0)Y(1)  is hermitian =  True\n"
     ]
    }
   ],
   "source": [
    "# Pauli Operators can be initialilzed and added/multipled \n",
    "H = tq.paulis.X(qubit=[0,1,2,3]) + tq.paulis.Y(2) + tq.paulis.Z(qubit=[0,1])*tq.paulis.X(2)\n",
    "print(H, \" is hermitian = \", H.is_hermitian())\n",
    "\n",
    "H = tq.paulis.Z(0)*tq.paulis.Y(0) + tq.paulis.X(0)\n",
    "print(H, \" is hermitian = \", H.is_hermitian())\n",
    "\n",
    "hermitian_part, anti_hermitian_part = H.split()\n",
    "print(\"hermitian part      = \", hermitian_part)\n",
    "print(\"anti-hermitian part = \", anti_hermitian_part)\n",
    "\n",
    "H = tq.paulis.Projector(\"|00>\")\n",
    "print(H, \" is hermitian = \", H.is_hermitian())\n",
    "\n",
    "H = tq.paulis.Projector(\"1.0*|00> + 1.0*|11>\")\n",
    "print(H, \" is hermitian = \", H.is_hermitian())\n"
   ]
  },
  {
   "cell_type": "markdown",
   "metadata": {},
   "source": [
    "Lets proceed with our previous simple example of a single qubit rotation and a single X as Hamiltonian.\n",
    "\n",
    "If you intent to evaluate the objective with lots of different choices of the variables it is useful to compile it.  A compiled objective is tied to a specific backend and can be used like a function taking a dictionary of variables.\n",
    "\n",
    "The compile function takes also the `backend` and `sample` keyword. If no backend is chosen tequila will pick automatically from the installed ones. If you intent to sample your objective instead of fully simulate it you can give a dummy integer of samples to `compile`. This will help tequila pick the best available backend but will not fix the number of samples for future evaluations.\n",
    "\n",
    "Compiling first will make your code faster since then the abstract circuits do not need to be re-translated to the backend every time."
   ]
  },
  {
   "cell_type": "code",
   "execution_count": 22,
   "metadata": {},
   "outputs": [
    {
     "name": "stdout",
     "output_type": "stream",
     "text": [
      "objective(0.0) = 0.0\n",
      "objective(0.5) = 0.479425538604203\n",
      "objective(1.0) = 0.8414709848078965\n"
     ]
    }
   ],
   "source": [
    "compiled_objective = tq.compile(E)\n",
    "\n",
    "# the compiled objective can now be used like a function\n",
    "for value in [0.0, 0.5, 1.0]:\n",
    "    evaluated = compiled_objective(variables={\"a\": value})\n",
    "    print(\"objective({}) = {}\".format(value, evaluated))"
   ]
  },
  {
   "cell_type": "markdown",
   "metadata": {},
   "source": [
    "Lets simulate our compiled objetive and plot the results"
   ]
  },
  {
   "cell_type": "code",
   "execution_count": 23,
   "metadata": {},
   "outputs": [
    {
     "data": {
      "image/png": "[encoded data removed]",
      "text/plain": [
       "<Figure size 432x288 with 1 Axes>"
      ]
     },
     "metadata": {
      "needs_background": "light"
     },
     "output_type": "display_data"
    }
   ],
   "source": [
    "def compile_and_evaluate(objective, steps=25, samples=None, start=0, stop=2*pi):\n",
    "    from matplotlib import pyplot as plt\n",
    "    plt.figure()\n",
    "    \n",
    "    compiled_objective = tq.compile(objective, samples=samples)\n",
    "    values = [start + (stop-start)*step/steps for step in range(steps)]\n",
    "    evaluated = [compiled_objective(variables={\"a\": value}, samples=samples) for value in values]\n",
    "\n",
    "    plt.plot(values, evaluated)\n",
    "    plt.show()\n",
    "    return values, evaluated\n",
    "\n",
    "compile_and_evaluate(E);"
   ]
  },
  {
   "cell_type": "markdown",
   "metadata": {},
   "source": [
    "Lets do the same again with a more complicated objective.  \n",
    "Lets take the square of our original expectation value and shift it by 1\n",
    "\n",
    "$$\n",
    "L = E^2 + 1\n",
    "$$"
   ]
  },
  {
   "cell_type": "code",
   "execution_count": 24,
   "metadata": {},
   "outputs": [
    {
     "data": {
      "image/png": "[encoded data removed]",
      "text/plain": [
       "<Figure size 432x288 with 1 Axes>"
      ]
     },
     "metadata": {
      "needs_background": "light"
     },
     "output_type": "display_data"
    }
   ],
   "source": [
    "# this is the new objective\n",
    "L = E**2 + 1\n",
    "\n",
    "compile_and_evaluate(L);"
   ]
  },
  {
   "cell_type": "markdown",
   "metadata": {},
   "source": [
    "And the same, but shifted by $e^{-a^2}$, so the shift is not constant and will only affect $L$ for small values of $a$.\n",
    "\n",
    "$$\n",
    "L = E^2 + e^{-a^2}\n",
    "$$"
   ]
  },
  {
   "cell_type": "code",
   "execution_count": 25,
   "metadata": {},
   "outputs": [
    {
     "data": {
      "image/png": "[encoded data removed]",
      "text/plain": [
       "<Figure size 432x288 with 1 Axes>"
      ]
     },
     "metadata": {
      "needs_background": "light"
     },
     "output_type": "display_data"
    }
   ],
   "source": [
    "# For completeness we initialize the variable again here\n",
    "a = tq.Variable(\"a\")\n",
    "# to be sure that the variable is the same as the one from the objective we could also do\n",
    "# a = objective.extract_variables()[0]\n",
    "\n",
    "# this is the new objective\n",
    "L = E**2 + (-a**2).apply(tq.numpy.exp)\n",
    "\n",
    "compile_and_evaluate(L);"
   ]
  },
  {
   "cell_type": "markdown",
   "metadata": {},
   "source": [
    "Now we also transform the expectation value in a more complicated way. It works the same way as it works for variables\n",
    "\n",
    "$$\n",
    "L = exp(-E^2) + exp(-a^2)E\n",
    "$$\n",
    "\n",
    "Note that the original expectation value now enters two times into the objective.  \n",
    "But tequila will only evaluate it once per run."
   ]
  },
  {
   "cell_type": "code",
   "execution_count": 26,
   "metadata": {},
   "outputs": [
    {
     "data": {
      "image/png": "[encoded data removed]",
      "text/plain": [
       "<Figure size 432x288 with 1 Axes>"
      ]
     },
     "metadata": {
      "needs_background": "light"
     },
     "output_type": "display_data"
    },
    {
     "name": "stdout",
     "output_type": "stream",
     "text": [
      "VectorObjective with 1 unique expectation values\n",
      "variables = [a]\n",
      "types     = not compiled\n"
     ]
    }
   ],
   "source": [
    "# For completeness we initialize the variable again here\n",
    "a = tq.Variable(\"a\")\n",
    "# to be sure that the variable is the same as the one from the objective we could also do\n",
    "# a = objective.extract_variables()[0]\n",
    "\n",
    "# this is the new objective\n",
    "L = E**2 + (-a**2).apply(tq.numpy.exp)*E\n",
    "\n",
    "compile_and_evaluate(L);\n",
    "\n",
    "# check how many (unique) expectation values are in the objective\n",
    "print(L)"
   ]
  },
  {
   "cell_type": "markdown",
   "metadata": {},
   "source": [
    "At last, lets take our last objective but sample from it. \n",
    "This means that in the evaluation of the expectation value the measurements on the underlying circuit are sampled.  \n",
    "Feel free to play with the number of samples."
   ]
  },
  {
   "cell_type": "code",
   "execution_count": 27,
   "metadata": {},
   "outputs": [
    {
     "data": {
      "image/png": "[encoded data removed]",
      "text/plain": [
       "<Figure size 432x288 with 1 Axes>"
      ]
     },
     "metadata": {
      "needs_background": "light"
     },
     "output_type": "display_data"
    },
    {
     "name": "stdout",
     "output_type": "stream",
     "text": [
      "VectorObjective with 1 unique expectation values\n",
      "variables = [a]\n",
      "types     = not compiled\n"
     ]
    }
   ],
   "source": [
    "# For completeness we initialize the variable again here\n",
    "a = tq.Variable(\"a\")\n",
    "# to be sure that the variable is the same as the one from the objective we could also do\n",
    "# a = objective.extract_variables()[0]\n",
    "\n",
    "# this is the new objective\n",
    "L = E**2 + (-a**2).apply(tq.numpy.exp)*E\n",
    "\n",
    "compile_and_evaluate(L, samples=1000);\n",
    "\n",
    "# check how many (unique) expectation values are in the objective\n",
    "print(L)"
   ]
  },
  {
   "cell_type": "markdown",
   "metadata": {},
   "source": [
    "### Derivatived of Objectives\n",
    "\n",
    "Derivatives of objectives are objectives themselves.\n",
    "They can be simply created by applying `tq.grad` on a objective.  \n",
    "\n",
    "Lets take first objective and plot its derivative.\n",
    "The first is easy to check since the derivative should just be the shifted sinus curve.\n",
    "Feel free to change the objective and play around.\n"
   ]
  },
  {
   "cell_type": "code",
   "execution_count": 28,
   "metadata": {},
   "outputs": [
    {
     "name": "stdout",
     "output_type": "stream",
     "text": [
      "VectorObjective:\n",
      " VectorObjective with 1 unique expectation values\n",
      "variables = [a]\n",
      "types     = not compiled\n"
     ]
    },
    {
     "data": {
      "image/png": "[encoded data removed]",
      "text/plain": [
       "<Figure size 432x288 with 1 Axes>"
      ]
     },
     "metadata": {
      "needs_background": "light"
     },
     "output_type": "display_data"
    },
    {
     "name": "stdout",
     "output_type": "stream",
     "text": [
      "First Derivative:\n",
      " VectorObjective with 2 unique expectation values\n",
      "variables = [a]\n",
      "types     = not compiled\n"
     ]
    },
    {
     "data": {
      "image/png": "[encoded data removed]",
      "text/plain": [
       "<Figure size 432x288 with 1 Axes>"
      ]
     },
     "metadata": {
      "needs_background": "light"
     },
     "output_type": "display_data"
    },
    {
     "name": "stdout",
     "output_type": "stream",
     "text": [
      "Second Derivative:\n",
      " VectorObjective with 6 unique expectation values\n",
      "variables = [a]\n",
      "types     = not compiled\n"
     ]
    },
    {
     "data": {
      "image/png": "[encoded data removed]",
      "text/plain": [
       "<Figure size 432x288 with 1 Axes>"
      ]
     },
     "metadata": {
      "needs_background": "light"
     },
     "output_type": "display_data"
    }
   ],
   "source": [
    "L = E\n",
    "\n",
    "dLda = tq.grad(L, \"a\")\n",
    "d2Ld2a = tq.grad(dLda, \"a\")\n",
    "print(\"VectorObjective:\\n\", L)\n",
    "compile_and_evaluate(L);\n",
    "print(\"First Derivative:\\n\",dLda)\n",
    "compile_and_evaluate(dLda);\n",
    "print(\"Second Derivative:\\n\",d2Ld2a)\n",
    "compile_and_evaluate(d2Ld2a);\n"
   ]
  },
  {
   "cell_type": "code",
   "execution_count": 29,
   "metadata": {},
   "outputs": [
    {
     "name": "stdout",
     "output_type": "stream",
     "text": [
      "VectorObjective:\n",
      " VectorObjective with 1 unique expectation values\n",
      "variables = [a]\n",
      "types     = not compiled\n"
     ]
    },
    {
     "data": {
      "image/png": "[encoded data removed]",
      "text/plain": [
       "<Figure size 432x288 with 1 Axes>"
      ]
     },
     "metadata": {
      "needs_background": "light"
     },
     "output_type": "display_data"
    },
    {
     "name": "stdout",
     "output_type": "stream",
     "text": [
      "First Derivative:\n",
      " VectorObjective with 3 unique expectation values\n",
      "variables = [a]\n",
      "types     = not compiled\n"
     ]
    },
    {
     "data": {
      "image/png": "[encoded data removed]",
      "text/plain": [
       "<Figure size 432x288 with 1 Axes>"
      ]
     },
     "metadata": {
      "needs_background": "light"
     },
     "output_type": "display_data"
    },
    {
     "name": "stdout",
     "output_type": "stream",
     "text": [
      "Second Derivative:\n",
      " VectorObjective with 9 unique expectation values\n",
      "variables = [a]\n",
      "types     = not compiled\n"
     ]
    },
    {
     "data": {
      "image/png": "[encoded data removed]",
      "text/plain": [
       "<Figure size 432x288 with 1 Axes>"
      ]
     },
     "metadata": {
      "needs_background": "light"
     },
     "output_type": "display_data"
    }
   ],
   "source": [
    "# another example\n",
    "L = E**2 + (-a**2).apply(tq.numpy.exp)*E\n",
    "dLda = tq.grad(L, \"a\")\n",
    "d2Ld2a = tq.grad(dLda, \"a\")\n",
    "print(\"VectorObjective:\\n\", L)\n",
    "compile_and_evaluate(L);\n",
    "print(\"First Derivative:\\n\",dLda)\n",
    "compile_and_evaluate(dLda);\n",
    "print(\"Second Derivative:\\n\",d2Ld2a)\n",
    "compile_and_evaluate(d2Ld2a);\n",
    "\n",
    "\n"
   ]
  },
  {
   "cell_type": "markdown",
   "metadata": {},
   "source": [
    "# All in one\n",
    "\n",
    "At last we will create a small toy objective and use the phoenics optimizer to find local minima.  \n",
    "\n",
    "As expectation value we will use an entangled circuit with one CNOT gate and one Ry rotation and an arbitrary chosen Hamiltonian.\n",
    "\n",
    "Our objective is defined as\n",
    "\n",
    "$$\\displaystyle\n",
    "L = \\langle H \\rangle_{U(a)} + e^{-\\left(\\frac{\\partial}{\\partial a} \\langle H \\rangle_{U_{a}}\\right)^2 }\n",
    "$$\n",
    "\n",
    "with \n",
    "\n",
    "$$\n",
    "H = -X(0)X(1) + \\frac{1}{2}Z(0) + Y(1)\n",
    "$$\n",
    "\n",
    "and \n",
    "\n",
    "$$\n",
    "U = e^{-\\frac{e^{-a^2}}{2} Y(0)} \\text{CNOT}(0,1)\n",
    "$$"
   ]
  },
  {
   "cell_type": "code",
   "execution_count": 30,
   "metadata": {},
   "outputs": [
    {
     "data": {
      "image/png": "[encoded data removed]",
      "text/plain": [
       "<Figure size 432x288 with 1 Axes>"
      ]
     },
     "metadata": {
      "needs_background": "light"
     },
     "output_type": "display_data"
    }
   ],
   "source": [
    "# All in one\n",
    "\n",
    "a = tq.Variable(\"a\")\n",
    "U = tq.gates.Ry(angle=(-a**2).apply(tq.numpy.exp)*pi, target=0)\n",
    "U += tq.gates.X(target=1, control=0)\n",
    "\n",
    "H = tq.QubitHamiltonian.from_string(\"-1.0*X(0)X(1)+0.5Z(0)+Y(1)\")\n",
    "\n",
    "E = tq.ExpectationValue(H=H, U=U)\n",
    "dE = tq.grad(E, \"a\")\n",
    "\n",
    "objective = E + (-dE**2).apply(tq.numpy.exp)\n",
    "\n",
    "param, values = compile_and_evaluate(objective, steps=100, start =-5, stop=5);"
   ]
  },
  {
   "cell_type": "code",
   "execution_count": 31,
   "metadata": {},
   "outputs": [
    {
     "name": "stdout",
     "output_type": "stream",
     "text": [
      "phoenics has recieved\n",
      "objective: \n",
      "\n",
      "VectorObjective with 3 unique expectation values\n",
      "variables = [a]\n",
      "types     = not compiled\n",
      "noise model : None\n",
      "samples     : None\n",
      "maxiter     : 10\n",
      "variables   : [a]\n",
      "passive var : {}\n",
      "backend options qulacs  {}\n",
      "now lets begin\n",
      "[TIME]:   0:00:00.000471   (overall)\n",
      "***********************************************\n",
      "energy = +1.49948883 , angles= {a: 2.9565465450286865}\n",
      "energy = -0.31946439 , angles= {a: -0.7203978896141052}\n",
      "energy = +1.42141092 , angles= {a: 2.0654146671295166}\n",
      "energy = +0.15096420 , angles= {a: -0.10101854801177979}\n",
      "energy = -0.34576708 , angles= {a: -1.1709864139556885}\n",
      "energy = +1.34663105 , angles= {a: 1.9432361125946045}\n",
      "energy = -0.77466846 , angles= {a: -0.4097276031970978}\n",
      "energy = +1.44883037 , angles= {a: 2.1426076889038086}\n",
      "energy = +0.95215726 , angles= {a: -1.6853265762329102}\n",
      "energy = -0.74158847 , angles= {a: -0.8014532327651978}\n",
      "Quantum VectorObjective evaluations: 0.17694354057312012s Wall-Time\n",
      "==========\n",
      "\u001b[0;37m[INFO] Acquisition ... starting process for 0 ...\n",
      "\u001b[0m\u001b[0;37m[INFO] Acquisition ... starting process for 1 ...\n",
      "\u001b[0m[TIME]:   19.459437370300293   (optimizing proposals)\n",
      "[TIME]:   0:00:32.084075   (overall)\n",
      "***********************************************\n",
      "energy = -0.57600081 , angles= {a: 0.5446628928184509}\n",
      "energy = +1.49952006 , angles= {a: -2.967015504837036}\n",
      "energy = -0.50355649 , angles= {a: 0.5601720213890076}\n",
      "energy = +1.49950171 , angles= {a: -2.9607765674591064}\n",
      "energy = -0.32863629 , angles= {a: 0.593593418598175}\n",
      "energy = +1.49947858 , angles= {a: -2.9532504081726074}\n",
      "energy = -0.78227425 , angles= {a: 0.42482003569602966}\n",
      "energy = +1.49947858 , angles= {a: -2.9532504081726074}\n",
      "energy = -0.31870157 , angles= {a: 0.7202635407447815}\n",
      "energy = +1.49938059 , angles= {a: -2.924417018890381}\n",
      "Quantum VectorObjective evaluations: 0.13590502738952637s Wall-Time\n",
      "==========\n",
      "\u001b[0;37m[INFO] Acquisition ... starting process for 0 ...\n",
      "\u001b[0m\u001b[0;37m[INFO] Acquisition ... starting process for 1 ...\n",
      "\u001b[0m[TIME]:   22.43321943283081   (optimizing proposals)\n",
      "[TIME]:   0:00:34.479107   (overall)\n",
      "***********************************************\n",
      "energy = -0.23470545 , angles= {a: 0.17545922100543976}\n",
      "energy = +0.33165333 , angles= {a: 1.4599658250808716}\n",
      "energy = -0.14918536 , angles= {a: 0.15719112753868103}\n",
      "energy = +0.34581923 , angles= {a: 1.465029239654541}\n",
      "energy = -0.14796931 , angles= {a: 0.15694308280944824}\n",
      "energy = +0.35543865 , angles= {a: 1.4684529304504395}\n",
      "energy = -0.29687172 , angles= {a: 0.1900164783000946}\n",
      "energy = +0.35928848 , angles= {a: 1.4698200225830078}\n",
      "energy = -0.30231893 , angles= {a: 0.19135528802871704}\n",
      "energy = +0.36031988 , angles= {a: 1.4701858758926392}\n",
      "Quantum VectorObjective evaluations: 0.1333916187286377s Wall-Time\n",
      "==========\n",
      "\u001b[0;37m[INFO] Acquisition ... starting process for 0 ...\n",
      "\u001b[0m\u001b[0;37m[INFO] Acquisition ... starting process for 1 ...\n",
      "\u001b[0m[TIME]:   33.429523944854736   (optimizing proposals)\n",
      "[TIME]:   0:00:46.654420   (overall)\n",
      "***********************************************\n",
      "energy = -0.11828661 , angles= {a: 0.6612110137939453}\n",
      "energy = +1.48400378 , angles= {a: -2.351280689239502}\n",
      "energy = -0.11830837 , angles= {a: 0.6612975001335144}\n",
      "energy = +1.48406649 , angles= {a: -2.351987600326538}\n",
      "energy = -0.13039553 , angles= {a: 0.6447691917419434}\n",
      "energy = +1.48409104 , angles= {a: -2.352264165878296}\n",
      "energy = -0.13622034 , angles= {a: 0.6416483521461487}\n",
      "energy = +1.48410666 , angles= {a: -2.352440595626831}\n",
      "energy = -0.14743710 , angles= {a: 0.6367645263671875}\n",
      "energy = +1.48410702 , angles= {a: -2.352445125579834}\n",
      "Quantum VectorObjective evaluations: 0.5233938694000244s Wall-Time\n",
      "==========\n",
      "\u001b[0;37m[INFO] Acquisition ... starting process for 0 ...\n",
      "\u001b[0m\u001b[0;37m[INFO] Acquisition ... starting process for 1 ...\n",
      "\u001b[0m[TIME]:   41.89116883277893   (optimizing proposals)\n",
      "[TIME]:   0:00:57.842402   (overall)\n",
      "***********************************************\n",
      "energy = -0.27143371 , angles= {a: -0.6048399806022644}\n",
      "energy = +1.49950171 , angles= {a: 2.9607832431793213}\n",
      "energy = -0.25765699 , angles= {a: -0.6076914072036743}\n",
      "energy = -0.71819478 , angles= {a: -0.5023410320281982}\n",
      "energy = -0.25320297 , angles= {a: -0.6086301803588867}\n",
      "energy = -0.73625290 , angles= {a: -0.49389803409576416}\n",
      "energy = -0.25312376 , angles= {a: -0.6086470484733582}\n",
      "energy = -0.73740709 , angles= {a: -0.49330076575279236}\n",
      "energy = -0.25107080 , angles= {a: -0.6090829968452454}\n",
      "energy = -0.73916996 , angles= {a: -0.4923724830150604}\n",
      "Quantum VectorObjective evaluations: 0.14086508750915527s Wall-Time\n",
      "==========\n",
      "\u001b[0;37m[INFO] Acquisition ... starting process for 0 ...\n",
      "\u001b[0m\u001b[0;37m[INFO] Acquisition ... starting process for 1 ...\n",
      "\u001b[0m[TIME]:   47.41372084617615   (optimizing proposals)\n",
      "[TIME]:   0:00:58.810401   (overall)\n",
      "***********************************************\n",
      "energy = -0.63499761 , angles= {a: 0.30768054723739624}\n",
      "energy = +0.02393236 , angles= {a: -1.3404356241226196}\n",
      "energy = -0.71258134 , angles= {a: -0.9900350570678711}\n",
      "energy = +0.01613884 , angles= {a: -1.3371148109436035}\n",
      "energy = -0.71012610 , angles= {a: -0.9913955330848694}\n",
      "energy = +0.01291987 , angles= {a: -1.3357386589050293}\n",
      "energy = -0.70735073 , angles= {a: -0.9929269552230835}\n",
      "energy = +0.00859354 , angles= {a: -1.3338850736618042}\n",
      "energy = -0.62528235 , angles= {a: 0.30280476808547974}\n",
      "energy = +0.00634831 , angles= {a: -1.3329212665557861}\n",
      "Quantum VectorObjective evaluations: 0.13472890853881836s Wall-Time\n",
      "==========\n",
      "\u001b[0;37m[INFO] Acquisition ... starting process for 0 ...\n",
      "\u001b[0m\u001b[0;37m[INFO] Acquisition ... starting process for 1 ...\n",
      "\u001b[0m[TIME]:   50.655394077301025   (optimizing proposals)\n",
      "[TIME]:   0:01:00.912920   (overall)\n",
      "***********************************************\n",
      "energy = -0.73263890 , angles= {a: 0.36746835708618164}\n",
      "energy = -0.42469013 , angles= {a: -0.2249269187450409}\n",
      "energy = -0.72697335 , angles= {a: 0.3631715476512909}\n",
      "energy = -0.72882748 , angles= {a: -0.3645589351654053}\n",
      "energy = -0.72563475 , angles= {a: 0.36218053102493286}\n",
      "energy = -0.75847197 , angles= {a: -0.39007434248924255}\n",
      "energy = -0.83635485 , angles= {a: -0.9019965529441833}\n",
      "energy = -0.76307309 , angles= {a: -0.3949383795261383}\n",
      "energy = -0.73824275 , angles= {a: 0.37190091609954834}\n",
      "energy = -0.76307309 , angles= {a: -0.3949384391307831}\n",
      "Quantum VectorObjective evaluations: 0.16922640800476074s Wall-Time\n",
      "==========\n",
      "\u001b[0;37m[INFO] Acquisition ... starting process for 0 ...\n",
      "\u001b[0m\u001b[0;37m[INFO] Acquisition ... starting process for 1 ...\n",
      "\u001b[0m[TIME]:   70.77111196517944   (optimizing proposals)\n",
      "[TIME]:   0:01:22.752016   (overall)\n",
      "***********************************************\n",
      "energy = -0.53379369 , angles= {a: -1.0810892581939697}\n",
      "energy = -0.44789121 , angles= {a: -1.122375249862671}\n",
      "energy = -0.53454727 , angles= {a: -1.0807238817214966}\n",
      "energy = -0.41613844 , angles= {a: -1.1375211477279663}\n",
      "energy = -0.51919246 , angles= {a: -1.0881545543670654}\n",
      "energy = -0.41443780 , angles= {a: -1.1383312940597534}\n",
      "energy = -0.54349816 , angles= {a: -1.0763781070709229}\n",
      "energy = -0.41186151 , angles= {a: -1.1395585536956787}\n",
      "energy = -0.48840284 , angles= {a: -1.102979302406311}\n",
      "energy = -0.41129750 , angles= {a: -1.1398271322250366}\n",
      "Quantum VectorObjective evaluations: 0.11245441436767578s Wall-Time\n",
      "==========\n",
      "\u001b[0;37m[INFO] Acquisition ... starting process for 0 ...\n",
      "\u001b[0m\u001b[0;37m[INFO] Acquisition ... starting process for 1 ...\n",
      "\u001b[0m[TIME]:   70.45339012145996   (optimizing proposals)\n",
      "[TIME]:   0:01:19.018780   (overall)\n",
      "***********************************************\n",
      "energy = -0.83747053 , angles= {a: -0.8466619253158569}\n",
      "energy = +1.49947190 , angles= {a: 2.9510743618011475}\n",
      "energy = -0.83687520 , angles= {a: -0.8460550904273987}\n",
      "energy = +1.49947190 , angles= {a: 2.9510743618011475}\n",
      "energy = -0.84497315 , angles= {a: -0.8565910458564758}\n",
      "energy = +1.49913001 , angles= {a: 2.866950035095215}\n",
      "energy = -0.84545332 , angles= {a: -0.8574903607368469}\n",
      "energy = -0.49843359 , angles= {a: 1.0981591939926147}\n",
      "energy = -0.84563261 , angles= {a: -0.8578422665596008}\n",
      "energy = +1.37261736 , angles= {a: -1.9775404930114746}\n",
      "Quantum VectorObjective evaluations: 0.09771585464477539s Wall-Time\n",
      "==========\n",
      "\u001b[0;37m[INFO] Acquisition ... starting process for 0 ...\n",
      "\u001b[0m\u001b[0;37m[INFO] Acquisition ... starting process for 1 ...\n"
     ]
    },
    {
     "name": "stdout",
     "output_type": "stream",
     "text": [
      "\u001b[0m[TIME]:   67.84975814819336   (optimizing proposals)\n",
      "[TIME]:   0:01:17.335417   (overall)\n",
      "***********************************************\n",
      "energy = -0.11987907 , angles= {a: -0.6646807789802551}\n",
      "energy = -0.13946956 , angles= {a: -0.6401156187057495}\n",
      "energy = -0.12103486 , angles= {a: -0.6661971807479858}\n",
      "energy = -0.13555449 , angles= {a: -0.6419781446456909}\n",
      "energy = -0.11854845 , angles= {a: -0.6620818376541138}\n",
      "energy = -0.45360070 , angles= {a: -0.5699966549873352}\n",
      "energy = -0.12204945 , angles= {a: -0.6672985553741455}\n",
      "energy = -0.13081717 , angles= {a: -0.6445222496986389}\n",
      "energy = -0.11824065 , angles= {a: -0.661016583442688}\n",
      "energy = -0.16607094 , angles= {a: -0.687553346157074}\n",
      "Quantum VectorObjective evaluations: 0.09319853782653809s Wall-Time\n",
      "best energy after 10 iterations : -0.84563261\n"
     ]
    }
   ],
   "source": [
    "# We need to specify the phoenics config here\n",
    "# the only change is that we are changing the interval for periodic boundary conditions to [-3,3] istead df [0, 2pi]\n",
    "# not that the original interval would also work here\n",
    "# we are restricting the search to 10 iterations here\n",
    "# check out the notebook on phoenics for more information\n",
    "phoenics_config = {'general': {'auto_desc_gen': 'False', 'batches': 5, 'boosted': 'False', 'parallel': 'False'}, 'parameters': [{'name': a, 'periodic': 'True', 'type': 'continuous', 'size': 1, 'low': -3., 'high': 3.}], 'objectives': [{'name': 'Energy', 'goal': 'minimize'}]}\n",
    "result = tq.minimize(method='phoenics', objective = objective, phoenics_config = phoenics_config, maxiter=10)"
   ]
  },
  {
   "cell_type": "code",
   "execution_count": 32,
   "metadata": {},
   "outputs": [
    {
     "data": {
      "image/png": "[encoded data removed]",
      "text/plain": [
       "<Figure size 432x288 with 1 Axes>"
      ]
     },
     "metadata": {
      "needs_background": "light"
     },
     "output_type": "display_data"
    }
   ],
   "source": [
    "# plot the points phoenics visited\n",
    "# the information is in the optimizer history\n",
    "# we have 'angles' and `energies' giving us information about every evaluation\n",
    "import matplotlib.pyplot as plt\n",
    "points = {}\n",
    "energies = result.history.energies\n",
    "angles = result.history.angles\n",
    "for it, energy in enumerate(energies):\n",
    "    angle = angles[it][tq.Variable(\"a\")]\n",
    "    points[angle] = energy\n",
    "\n",
    "plt.plot(param, values, linestyle=\"--\")\n",
    "plt.plot(list(points.keys()), list(points.values()), marker = \"o\", linestyle=\" \", label=\"phoenics\")\n",
    "plt.legend()\n",
    "plt.show()\n",
    "    \n"
   ]
  },
  {
   "cell_type": "markdown",
   "metadata": {},
   "source": [
    "In case you want to play with different optimizers (see also the SciPyOptimizers and FAQ notebooks)"
   ]
  },
  {
   "cell_type": "code",
   "execution_count": 2,
   "metadata": {},
   "outputs": [
    {
     "name": "stdout",
     "output_type": "stream",
     "text": [
      "available methods for optimizer modules found on your system:\n",
      "method               | optimizer module\n",
      "--------------------------\n",
      "NELDER-MEAD          | scipy\n",
      "COBYLA               | scipy\n",
      "POWELL               | scipy\n",
      "SLSQP                | scipy\n",
      "L-BFGS-B             | scipy\n",
      "BFGS                 | scipy\n",
      "CG                   | scipy\n",
      "TNC                  | scipy\n",
      "TRUST-KRYLOV         | scipy\n",
      "NEWTON-CG            | scipy\n",
      "DOGLEG               | scipy\n",
      "TRUST-NCG            | scipy\n",
      "TRUST-EXACT          | scipy\n",
      "TRUST-CONSTR         | scipy\n",
      "adam                 | gd\n",
      "adagrad              | gd\n",
      "adamax               | gd\n",
      "nadam                | gd\n",
      "sgd                  | gd\n",
      "momentum             | gd\n",
      "nesterov             | gd\n",
      "rmsprop              | gd\n",
      "rmsprop-nesterov     | gd\n",
      "lbfgs                | gpyopt\n",
      "direct               | gpyopt\n",
      "cma                  | gpyopt\n",
      "phoenics             | phoenics\n",
      "Supported optimizer modules:  ['scipy', 'phoenics', 'gpyopt', 'gd']\n",
      "Installed optimizer modules:  ['scipy', 'gd', 'gpyopt', 'phoenics']\n"
     ]
    }
   ],
   "source": [
    "tq.show_available_optimizers()"
   ]
  },
  {
   "cell_type": "code",
   "execution_count": null,
   "metadata": {},
   "outputs": [],
   "source": []
  }
 ],
 "metadata": {
  "kernelspec": {
   "display_name": "tequila-3.6",
   "language": "python",
   "name": "tequila-3.6"
  },
  "language_info": {
   "codemirror_mode": {
    "name": "ipython",
    "version": 3
   },
   "file_extension": ".py",
   "mimetype": "text/x-python",
   "name": "python",
   "nbconvert_exporter": "python",
   "pygments_lexer": "ipython3",
   "version": "3.6.9"
  }
 },
 "nbformat": 4,
 "nbformat_minor": 2
}
