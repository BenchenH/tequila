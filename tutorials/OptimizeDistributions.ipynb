{
 "cells": [
  {
   "cell_type": "markdown",
   "metadata": {},
   "source": [
    "# Training Distributions with KM Divergence"
   ]
  },
  {
   "cell_type": "markdown",
   "metadata": {},
   "source": [
    "Short tutorial on how to form objectives like in this paper  \n",
    "https://arxiv.org/pdf/1801.07686.pdf\n",
    "\n",
    "First some imports and the advice to use `tq.numpy` for functions in objectives (avoid issues in automatic differentiations and use the regular `numpy` for everything else (avoid issues with jax where you don't want them)"
   ]
  },
  {
   "cell_type": "code",
   "execution_count": 1,
   "metadata": {},
   "outputs": [],
   "source": [
    "import tequila as tq\n",
    "import numpy"
   ]
  },
  {
   "cell_type": "markdown",
   "metadata": {},
   "source": [
    "First we define the $\\max(x,\\epsilon)$ function we will need further down the road and some global variables for this example"
   ]
  },
  {
   "cell_type": "code",
   "execution_count": 2,
   "metadata": {},
   "outputs": [],
   "source": [
    "# global variables, change here if you want\n",
    "eps = 1.e-8\n",
    "n_qubits = 5\n",
    "n_layers = 1\n",
    "\n",
    "def my_max(x):\n",
    "    if x<eps:\n",
    "        return eps\n",
    "    else:\n",
    "        return x"
   ]
  },
  {
   "cell_type": "markdown",
   "metadata": {},
   "source": [
    "In this example we will train for the generation of GHZ state (as in the paper above).  \n",
    "The ansatz template consists of `Rx` gates and Mølmer-Sørensen gates which are just rotations around XX.  \n",
    "We give here the option of using multiple layers, but one layer actually suffices for this example"
   ]
  },
  {
   "cell_type": "code",
   "execution_count": 3,
   "metadata": {},
   "outputs": [],
   "source": [
    "# create ansatz\n",
    "U = tq.QCircuit()\n",
    "for layer in range(n_layers):\n",
    "    for q in range(n_qubits):\n",
    "        # name can be any non-numeric hashable type\n",
    "        # scaling variables with pi in this example\n",
    "        variable = tq.Variable(name=(layer, q))\n",
    "        U += tq.gates.Rx(angle=variable*tq.numpy.pi, target=q)\n",
    "    for q in range(n_qubits):\n",
    "        for p in range(q+1, n_qubits):\n",
    "            U += tq.gates.ExpPauli(angle=tq.numpy.pi / 2.0, paulistring=\"X({})X({})\".format(q, p))"
   ]
  },
  {
   "cell_type": "markdown",
   "metadata": {},
   "source": [
    "Here are some demonstrations on how to extract informations from your template circuit U"
   ]
  },
  {
   "cell_type": "code",
   "execution_count": 4,
   "metadata": {},
   "outputs": [
    {
     "name": "stdout",
     "output_type": "stream",
     "text": [
      "circuit: \n",
      "Rx(target=(0,), parameter=VectorObjective with 0 unique expectation values\n",
      "variables = [(0, 0)]\n",
      "types     = [])\n",
      "Rx(target=(1,), parameter=VectorObjective with 0 unique expectation values\n",
      "variables = [(0, 1)]\n",
      "types     = [])\n",
      "Rx(target=(2,), parameter=VectorObjective with 0 unique expectation values\n",
      "variables = [(0, 2)]\n",
      "types     = [])\n",
      "Rx(target=(3,), parameter=VectorObjective with 0 unique expectation values\n",
      "variables = [(0, 3)]\n",
      "types     = [])\n",
      "Rx(target=(4,), parameter=VectorObjective with 0 unique expectation values\n",
      "variables = [(0, 4)]\n",
      "types     = [])\n",
      "Exp-Pauli(target=(0, 1), control=(), parameter=1.5707963267948966, paulistring=X(0)X(1))\n",
      "Exp-Pauli(target=(0, 2), control=(), parameter=1.5707963267948966, paulistring=X(0)X(2))\n",
      "Exp-Pauli(target=(0, 3), control=(), parameter=1.5707963267948966, paulistring=X(0)X(3))\n",
      "Exp-Pauli(target=(0, 4), control=(), parameter=1.5707963267948966, paulistring=X(0)X(4))\n",
      "Exp-Pauli(target=(1, 2), control=(), parameter=1.5707963267948966, paulistring=X(1)X(2))\n",
      "Exp-Pauli(target=(1, 3), control=(), parameter=1.5707963267948966, paulistring=X(1)X(3))\n",
      "Exp-Pauli(target=(1, 4), control=(), parameter=1.5707963267948966, paulistring=X(1)X(4))\n",
      "Exp-Pauli(target=(2, 3), control=(), parameter=1.5707963267948966, paulistring=X(2)X(3))\n",
      "Exp-Pauli(target=(2, 4), control=(), parameter=1.5707963267948966, paulistring=X(2)X(4))\n",
      "Exp-Pauli(target=(3, 4), control=(), parameter=1.5707963267948966, paulistring=X(3)X(4))\n",
      "\n",
      "Circuit depends on variables:  [(0, 1), (0, 0), (0, 4), (0, 3), (0, 2)]\n"
     ]
    }
   ],
   "source": [
    "print(U)\n",
    "print(\"Circuit depends on variables: \", U.extract_variables())"
   ]
  },
  {
   "cell_type": "markdown",
   "metadata": {},
   "source": [
    "The circuit is parametrized by variables, so if we want to simulate it we will have to choose for which values we want to simulate the wavefunction. Here is an example where we set all variables to $\\pi$.  \n",
    "Variables are passed down to the simulator as a dictionary holding the variable names and values"
   ]
  },
  {
   "cell_type": "code",
   "execution_count": 5,
   "metadata": {},
   "outputs": [
    {
     "name": "stdout",
     "output_type": "stream",
     "text": [
      "wfn with variables =  {(0, 1): 1.0, (0, 0): 1.0, (0, 4): 1.0, (0, 3): 1.0, (0, 2): 1.0}\n",
      "+0.2500|10000> +0.2500|01000> +0.2500|00100> -0.2500|11100> +0.2500|00010> -0.2500|11010> -0.2500|10110> -0.2500|01110> +0.2500|00001> -0.2500|11001> -0.2500|10101> -0.2500|01101> -0.2500|10011> -0.2500|01011> -0.2500|00111> +0.2500|11111> \n"
     ]
    }
   ],
   "source": [
    "variables = {k : 1.0 for k in U.extract_variables()}\n",
    "wfn = tq.simulate(U, variables=variables)\n",
    "print(\"wfn with variables = \", variables)\n",
    "print(wfn)"
   ]
  },
  {
   "cell_type": "markdown",
   "metadata": {},
   "source": [
    "Instead of simulating directly the circuit can also be compiled and afterwards be used like a function"
   ]
  },
  {
   "cell_type": "code",
   "execution_count": 6,
   "metadata": {},
   "outputs": [
    {
     "name": "stdout",
     "output_type": "stream",
     "text": [
      "+0.2500|10000> +0.2500|01000> +0.2500|00100> -0.2500|11100> +0.2500|00010> -0.2500|11010> -0.2500|10110> -0.2500|01110> +0.2500|00001> -0.2500|11001> -0.2500|10101> -0.2500|01101> -0.2500|10011> -0.2500|01011> -0.2500|00111> +0.2500|11111> \n"
     ]
    }
   ],
   "source": [
    "compiledU = tq.compile(U)\n",
    "wfn = compiledU(variables=variables)\n",
    "print(wfn)"
   ]
  },
  {
   "cell_type": "markdown",
   "metadata": {},
   "source": [
    "Next we will define the target distribution which we want to optimize for. It is the distribution of a GHZ state, i.e. $P(00..0) = 0.5$ and $P(11..1)=0.5$ where in the following we will use binary notation for easier coding i.e $00...0=0$ and $11..1=2^{n-1}+2^{n-2}+..+1$"
   ]
  },
  {
   "cell_type": "code",
   "execution_count": 7,
   "metadata": {},
   "outputs": [],
   "source": [
    "one = sum([2**i for i in range(n_qubits)])\n",
    "target_distribution = {0:0.5, one:0.5}"
   ]
  },
  {
   "cell_type": "markdown",
   "metadata": {},
   "source": [
    "For the tequila objective Born's rule will be used. In order to make this work we need to reformulate this as an expectation value. This can be achieved as \n",
    "$$\\displaystyle \\lvert\\langle ijk..l \\rvert \\Psi \\rangle\\rvert^2 = \\langle \\Psi \\rvert H \\lvert \\Psi \\rangle$$\n",
    "where $i,j,k..,l \\in \\left\\{0,1 \\right\\}$ and the Hamiltonian is\n",
    "$$ \\displaystyle H = \\lvert ijk..l \\rangle \\langle ijk..l \\rvert = \\otimes_{m \\in (ijk..l)} \\frac{1}{n}\\left( 1 + (-1)^{m}\\sigma_Z \\right)$$\n",
    "\n",
    "Tequila has a convenience shortcut for the operator $$Q_{\\pm} = \\frac{1}{2}\\left( 1 \\pm \\sigma_Z \\right) $$\n",
    "\n",
    "Lets build the Kullback–Leibler divergence of the distribution P generated by our template U and the target distribution Q\n",
    "\n",
    "$$ \\displaystyle D(P,Q) = -\\frac{1}{2^n} \\sum_{x} P(x) \\ln\\left(\\frac{P(x)}{Q(x)}\\right) $$\n",
    "\n",
    "where we use the same safety barrier as in the paper to prevent taking logarithms of zero (this is where the mymax function fron above is needed). In the end we will square the objective to avoid negative values and assure that zero is the minimum."
   ]
  },
  {
   "cell_type": "code",
   "execution_count": 8,
   "metadata": {},
   "outputs": [],
   "source": [
    "objective = tq.VectorObjective()\n",
    "\n",
    "for k, Q in target_distribution.items():\n",
    "    Q = my_max(Q) # here we apply the mymax function to avoid having zeros\n",
    "    wfn = tq.QubitWaveFunction.from_int(k, n_qubits=n_qubits)\n",
    "    H = tq.paulis.Projector(wfn=wfn)\n",
    "    P = tq.ExpectationValue(H=H, U=U)  # this is the born rule expectation value from above\n",
    "    P = P.apply(my_max) # here we apply the mymax function to avoid having zeros\n",
    "    objective += Q*(Q / P).apply(tq.numpy.log) # here we take the logarithm and sum up\n",
    "    \n",
    "objective = 1.0/2.0**n_qubits *objective\n",
    "objective = objective**2 # here we take the square"
   ]
  },
  {
   "cell_type": "markdown",
   "metadata": {},
   "source": [
    "Lets see what we created here.\n",
    "Tequila created an objective with 4 expectationvalues (we had 2 values in the target_distribution, and P entered twice each) but only 2 unique expectationvalues (meaning the simulator will only evaluate those two)"
   ]
  },
  {
   "cell_type": "code",
   "execution_count": 9,
   "metadata": {},
   "outputs": [
    {
     "name": "stdout",
     "output_type": "stream",
     "text": [
      "VectorObjective with 2 unique expectation values\n",
      "variables = [(0, 1), (0, 0), (0, 4), (0, 3), (0, 2)]\n",
      "types     = not compiled\n"
     ]
    }
   ],
   "source": [
    "print(objective)"
   ]
  },
  {
   "cell_type": "markdown",
   "metadata": {},
   "source": [
    "Objectives can be compiled and simulated in the same way as the circuits above. \n",
    "Here is a small demonstration.  \n",
    "Since our objective is parametrized we need to pass the variables down again. We will use the same as in the example above.\n"
   ]
  },
  {
   "cell_type": "code",
   "execution_count": 10,
   "metadata": {},
   "outputs": [
    {
     "name": "stdout",
     "output_type": "stream",
     "text": [
      "value1 =  0.09578033\n",
      "value2 =  0.09578033\n",
      "value3 =  0.004561313\n"
     ]
    }
   ],
   "source": [
    "value1 = tq.simulate(objective, variables=variables)\n",
    "compiled = tq.compile(objective)\n",
    "value2 = compiled(variables=variables)\n",
    "variables2 = {k:1.1 for k in objective.extract_variables()}\n",
    "value3 = compiled(variables=variables2)\n",
    "print(\"value1 = \", value1)\n",
    "print(\"value2 = \", value2)\n",
    "print(\"value3 = \", value3)"
   ]
  },
  {
   "cell_type": "markdown",
   "metadata": {},
   "source": [
    "Lets optimize our objective with one of the inbuildt optimizers in tequila.  \n",
    "If no initial_values are passed down, random initialization will be used.  \n",
    "Check the OptimizerSciPy Tutorial for more information"
   ]
  },
  {
   "cell_type": "code",
   "execution_count": 11,
   "metadata": {},
   "outputs": [
    {
     "name": "stdout",
     "output_type": "stream",
     "text": [
      "Optimizer: <class 'tequila.optimizers.optimizer_scipy.OptimizerSciPy'> \n",
      "backend         : qulacs\n",
      "backend_options : {}\n",
      "samples         : None\n",
      "save_history    : True\n",
      "noise           : None\n",
      "\n",
      "Method          : COBYLA\n",
      "VectorObjective       : 2 expectationvalues\n",
      "\n",
      "active variables : 5\n",
      "\n",
      "E=+0.00227650  angles= {(0, 1): 2.783135012346263, (0, 0): 4.772494364950991, (0, 4): 0.1899751935903342, (0, 3): 5.994493990491562, (0, 2): 0.7607467693532373}  samples= None\n",
      "E=+0.00913120  angles= {(0, 1): 3.783135012346263, (0, 0): 4.772494364950991, (0, 4): 0.1899751935903342, (0, 3): 5.994493990491562, (0, 2): 0.7607467693532373}  samples= None\n",
      "E=+0.00972212  angles= {(0, 1): 2.783135012346263, (0, 0): 5.772494364950991, (0, 4): 0.1899751935903342, (0, 3): 5.994493990491562, (0, 2): 0.7607467693532373}  samples= None\n",
      "E=+0.00781691  angles= {(0, 1): 2.783135012346263, (0, 0): 4.772494364950991, (0, 4): 1.1899751935903342, (0, 3): 5.994493990491562, (0, 2): 0.7607467693532373}  samples= None\n",
      "E=+0.00217399  angles= {(0, 1): 2.783135012346263, (0, 0): 4.772494364950991, (0, 4): 0.1899751935903342, (0, 3): 6.994493990491562, (0, 2): 0.7607467693532373}  samples= None\n",
      "E=+0.01018082  angles= {(0, 1): 2.783135012346263, (0, 0): 4.772494364950991, (0, 4): 0.1899751935903342, (0, 3): 6.994493990491562, (0, 2): 1.7607467693532373}  samples= None\n",
      "E=+0.00792979  angles= {(0, 1): 2.2950550857408447, (0, 0): 4.242338932465058, (0, 4): -0.20452286836158096, (0, 3): 7.001792546616834, (0, 2): 0.19063168198475544}  samples= None\n",
      "E=+0.00974229  angles= {(0, 1): 3.253037538049972, (0, 0): 4.668713310648173, (0, 4): 0.11274987007000163, (0, 3): 6.995922725921127, (0, 2): 0.6491433768092706}  samples= None\n",
      "E=+0.00508945  angles= {(0, 1): 2.783135012346263, (0, 0): 4.921738240111907, (0, 4): -0.010589673041269482, (0, 3): 6.994493990491562, (0, 2): 0.7607467693532373}  samples= None\n",
      "E=+0.00187143  angles= {(0, 1): 2.5940519564978315, (0, 0): 4.976959381147077, (0, 4): 0.5833926245544696, (0, 3): 6.9961953184310595, (0, 2): 0.6278502470519551}  samples= None\n",
      "E=+0.00202698  angles= {(0, 1): 2.4932849577620226, (0, 0): 4.896500931256145, (0, 4): 0.6521015044185805, (0, 3): 6.997101997824194, (0, 2): 0.8307066434687875}  samples= None\n",
      "E=+0.00336258  angles= {(0, 1): 2.592965769794026, (0, 0): 4.975779558437052, (0, 4): 0.582514697546593, (0, 3): 7.12117550779848, (0, 2): 0.62658149700963}  samples= None\n",
      "E=+0.00062781  angles= {(0, 1): 2.4467469125266095, (0, 0): 4.833496118294788, (0, 4): 0.5499873172184006, (0, 3): 6.9318811480280855, (0, 2): 0.5055093742433494}  samples= None\n",
      "E=+0.00013057  angles= {(0, 1): 2.5394042061295035, (0, 0): 4.71022238292648, (0, 4): 0.6535572601727356, (0, 3): 6.7714685744058105, (0, 2): 0.4579774349725261}  samples= None\n",
      "E=+0.00005647  angles= {(0, 1): 2.4410827400638553, (0, 0): 4.779034571982278, (0, 4): 0.5815215761666901, (0, 3): 6.564541181355637, (0, 2): 0.44850715602778723}  samples= None\n",
      "E=+0.00017398  angles= {(0, 1): 2.394885859347036, (0, 0): 4.830893211841623, (0, 4): 0.6789862998786139, (0, 3): 6.5714284779852905, (0, 2): 0.4130850942460639}  samples= None\n",
      "E=+0.00002506  angles= {(0, 1): 2.3660965546899053, (0, 0): 4.588248786594407, (0, 4): 0.5438054976675059, (0, 3): 6.539394548432357, (0, 2): 0.31277580234610447}  samples= None\n",
      "E=+0.00006915  angles= {(0, 1): 2.4253230419422356, (0, 0): 4.637145119570727, (0, 4): 0.5117399635909988, (0, 3): 6.542941147788237, (0, 2): 0.21957926278257978}  samples= None\n",
      "E=+0.00000730  angles= {(0, 1): 2.5100354271208336, (0, 0): 4.480716928033578, (0, 4): 0.5782273949739254, (0, 3): 6.382660099715059, (0, 2): 0.37961849804935854}  samples= None\n",
      "E=+0.00000304  angles= {(0, 1): 2.490427094019411, (0, 0): 4.449826831818239, (0, 4): 0.4744502640745456, (0, 3): 6.375686406820643, (0, 2): 0.4385081400800086}  samples= None\n",
      "E=+0.00000138  angles= {(0, 1): 2.5208158509131544, (0, 0): 4.425622616976693, (0, 4): 0.4769708299973681, (0, 3): 6.423988152449641, (0, 2): 0.4460921729766633}  samples= None\n",
      "E=+0.00000619  angles= {(0, 1): 2.46105580372709, (0, 0): 4.3467087383265515, (0, 4): 0.5298633567836849, (0, 3): 6.421753622241243, (0, 2): 0.5010805717678337}  samples= None\n",
      "E=+0.00000032  angles= {(0, 1): 2.5285394899219833, (0, 0): 4.462350950586838, (0, 4): 0.49123272944625546, (0, 3): 6.429315371598147, (0, 2): 0.4936930539657456}  samples= None\n",
      "E=+0.00000719  angles= {(0, 1): 2.634260271869688, (0, 0): 4.452613288936627, (0, 4): 0.4453345792059655, (0, 3): 6.39748203110536, (0, 2): 0.528811317697627}  samples= None\n",
      "E=+0.00000013  angles= {(0, 1): 2.480702075792642, (0, 0): 4.512512828053331, (0, 4): 0.4391621463477947, (0, 3): 6.519202825539159, (0, 2): 0.4882830763093097}  samples= None\n",
      "E=+0.00000013  angles= {(0, 1): 2.493261002448482, (0, 0): 4.536252559285535, (0, 4): 0.48452392846344994, (0, 3): 6.538022080460614, (0, 2): 0.4604785283041898}  samples= None\n",
      "E=+0.00000011  angles= {(0, 1): 2.4715045101365476, (0, 0): 4.523398077418409, (0, 4): 0.5001592265851375, (0, 3): 6.543167044158348, (0, 2): 0.4686667295354382}  samples= None\n",
      "E=+0.00000023  angles= {(0, 1): 2.5038869913549373, (0, 0): 4.512752366637025, (0, 4): 0.507294093899037, (0, 3): 6.576859793274796, (0, 2): 0.5081405952884763}  samples= None\n",
      "E=+0.00000012  angles= {(0, 1): 2.4666331742213905, (0, 0): 4.545387842117448, (0, 4): 0.5055079320324282, (0, 3): 6.532489345730792, (0, 2): 0.4867404934270823}  samples= None\n",
      "E=+0.00000120  angles= {(0, 1): 2.422368994601741, (0, 0): 4.5344870369307095, (0, 4): 0.4878412331071162, (0, 3): 6.550333110140119, (0, 2): 0.4345214425241437}  samples= None\n",
      "E=+0.00000002  angles= {(0, 1): 2.4942338241574205, (0, 0): 4.4977563616011365, (0, 4): 0.5271617935630839, (0, 3): 6.4984424656242, (0, 2): 0.4703111581995138}  samples= None\n",
      "E=+0.00000011  angles= {(0, 1): 2.4826235003499204, (0, 0): 4.489140786785271, (0, 4): 0.5359209615027094, (0, 3): 6.4774530324434005, (0, 2): 0.4544916947626141}  samples= None\n",
      "E=+0.00000005  angles= {(0, 1): 2.4978550475636343, (0, 0): 4.503531698742926, (0, 4): 0.5385753900379096, (0, 3): 6.503628626675152, (0, 2): 0.4639466946711092}  samples= None\n",
      "E=+0.00000001  angles= {(0, 1): 2.507658969064965, (0, 0): 4.481999880140091, (0, 4): 0.526439028116647, (0, 3): 6.50398452858176, (0, 2): 0.4930449309718243}  samples= None\n",
      "E=+0.00000001  angles= {(0, 1): 2.5151157919705036, (0, 0): 4.4755690606300105, (0, 4): 0.5202749248899762, (0, 3): 6.507376098166341, (0, 2): 0.48316150723568435}  samples= None\n",
      "E=+0.00000001  angles= {(0, 1): 2.524727548238331, (0, 0): 4.499537186145138, (0, 4): 0.5143895420281541, (0, 3): 6.490029958633574, (0, 2): 0.49918894152294335}  samples= None\n",
      "E=+0.00000000  angles= {(0, 1): 2.5225357550827057, (0, 0): 4.505903923887607, (0, 4): 0.5077411601992673, (0, 3): 6.502204126839818, (0, 2): 0.5017167796951731}  samples= None\n",
      "E=+0.00000000  angles= {(0, 1): 2.5059427736299877, (0, 0): 4.498702622069246, (0, 4): 0.48737524408608557, (0, 3): 6.492783389646855, (0, 2): 0.5137938608923253}  samples= None\n",
      "E=+0.00000000  angles= {(0, 1): 2.5053059732167178, (0, 0): 4.503942993102852, (0, 4): 0.4914753979601552, (0, 3): 6.495635739101408, (0, 2): 0.5276259418081481}  samples= None\n",
      "E=+0.00000000  angles= {(0, 1): 2.5011265575507835, (0, 0): 4.503744372260559, (0, 4): 0.48915116108077195, (0, 3): 6.490712741474478, (0, 2): 0.5115626036433673}  samples= None\n",
      "E=+0.00000000  angles= {(0, 1): 2.5014122819153597, (0, 0): 4.508112384795891, (0, 4): 0.47810215629338815, (0, 3): 6.493756959862305, (0, 2): 0.5018862571895525}  samples= None\n",
      "E=+0.00000000  angles= {(0, 1): 2.496817978908871, (0, 0): 4.501237046371568, (0, 4): 0.49036743309021313, (0, 3): 6.496547605928128, (0, 2): 0.5107504075897977}  samples= None\n",
      "E=+0.00000000  angles= {(0, 1): 2.4915352364038568, (0, 0): 4.49160117720669, (0, 4): 0.49522945829489595, (0, 3): 6.489356999830544, (0, 2): 0.503819377585425}  samples= None\n",
      "E=+0.00000000  angles= {(0, 1): 2.492702891325288, (0, 0): 4.499847466743113, (0, 4): 0.48566738532689796, (0, 3): 6.4944421524882685, (0, 2): 0.5147060233093502}  samples= None\n",
      "E=+0.00000000  angles= {(0, 1): 2.4982508857584604, (0, 0): 4.505704457023631, (0, 4): 0.5041471448534476, (0, 3): 6.50208678411656, (0, 2): 0.509498731215809}  samples= None\n",
      "E=+0.00000000  angles= {(0, 1): 2.4992343757700892, (0, 0): 4.507444697065427, (0, 4): 0.5021130197383208, (0, 3): 6.504804202845239, (0, 2): 0.5027520699146178}  samples= None\n"
     ]
    },
    {
     "name": "stdout",
     "output_type": "stream",
     "text": [
      "E=+0.00000000  angles= {(0, 1): 2.496385469729098, (0, 0): 4.50988887942981, (0, 4): 0.5020265598804078, (0, 3): 6.503742913516214, (0, 2): 0.5025658290630102}  samples= None\n",
      "E=+0.00000000  angles= {(0, 1): 2.497358203267887, (0, 0): 4.505215732121996, (0, 4): 0.5019925980612705, (0, 3): 6.512031547492335, (0, 2): 0.5032978136683388}  samples= None\n",
      "E=+0.00000000  angles= {(0, 1): 2.4975207795513334, (0, 0): 4.504891901488058, (0, 4): 0.5033958678210747, (0, 3): 6.503724080041817, (0, 2): 0.5010219695337635}  samples= None\n",
      "E=+0.00000000  angles= {(0, 1): 2.50268463813964, (0, 0): 4.504601628287309, (0, 4): 0.5065532640221861, (0, 3): 6.500620575096581, (0, 2): 0.4971899245858274}  samples= None\n",
      "E=+0.00000000  angles= {(0, 1): 2.499305289886568, (0, 0): 4.5043421235422425, (0, 4): 0.5000091631402379, (0, 3): 6.503182462664415, (0, 2): 0.5011165113632858}  samples= None\n",
      "E=+0.00000000  angles= {(0, 1): 2.495100756962929, (0, 0): 4.5002378550873035, (0, 4): 0.4983184107988399, (0, 3): 6.498945416880158, (0, 2): 0.4987288683547942}  samples= None\n",
      "E=+0.00000000  angles= {(0, 1): 2.495498657700436, (0, 0): 4.497833938805057, (0, 4): 0.4978463825192053, (0, 3): 6.50172009815385, (0, 2): 0.4975456592835861}  samples= None\n",
      "E=+0.00000000  angles= {(0, 1): 2.494622380131381, (0, 0): 4.499553719116697, (0, 4): 0.49819411947396763, (0, 3): 6.499146346366327, (0, 2): 0.5004787225928765}  samples= None\n",
      "E=+0.00000000  angles= {(0, 1): 2.4978001292676306, (0, 0): 4.498517695344687, (0, 4): 0.49972334072407165, (0, 3): 6.497219571863187, (0, 2): 0.4989755656705089}  samples= None\n",
      "E=+0.00000000  angles= {(0, 1): 2.498591000511901, (0, 0): 4.49861127868527, (0, 4): 0.49796667387915666, (0, 3): 6.496955895663427, (0, 2): 0.4991338646175465}  samples= None\n",
      "E=+0.00000000  angles= {(0, 1): 2.499314912399189, (0, 0): 4.49946233927245, (0, 4): 0.5014656474790553, (0, 3): 6.4943325687908295, (0, 2): 0.4981380399047427}  samples= None\n",
      "E=+0.00000000  angles= {(0, 1): 2.496761540637007, (0, 0): 4.497427637553669, (0, 4): 0.49928844134704253, (0, 3): 6.496237758862494, (0, 2): 0.49834730561469215}  samples= None\n",
      "E=+0.00000000  angles= {(0, 1): 2.49986694211121, (0, 0): 4.497540793680757, (0, 4): 0.5002568467584964, (0, 3): 6.50026629507451, (0, 2): 0.49829322715045626}  samples= None\n",
      "E=+0.00000000  angles= {(0, 1): 2.5000129692327584, (0, 0): 4.497340194670272, (0, 4): 0.5005053013910796, (0, 3): 6.500575135871828, (0, 2): 0.5001895449085995}  samples= None\n",
      "E=+0.00000000  angles= {(0, 1): 2.500665118079543, (0, 0): 4.497114784717932, (0, 4): 0.5008722777990781, (0, 3): 6.49999018075225, (0, 2): 0.5001626678648227}  samples= None\n",
      "E=+0.00000000  angles= {(0, 1): 2.500542816794557, (0, 0): 4.499136773099907, (0, 4): 0.5009334406990196, (0, 3): 6.500916912054951, (0, 2): 0.5002679703298563}  samples= None\n",
      "E=+0.00000000  angles= {(0, 1): 2.5001078170325814, (0, 0): 4.499047319091357, (0, 4): 0.5017919822544619, (0, 3): 6.501009786818476, (0, 2): 0.5001643934032718}  samples= None\n",
      "E=+0.00000000  angles= {(0, 1): 2.501046888782672, (0, 0): 4.499681894477512, (0, 4): 0.5004037743167621, (0, 3): 6.502632383987845, (0, 2): 0.5004681226494986}  samples= None\n",
      "E=+0.00000000  angles= {(0, 1): 2.499559855346541, (0, 0): 4.500221001095016, (0, 4): 0.5003521563110765, (0, 3): 6.499955099735813, (0, 2): 0.500908250920729}  samples= None\n",
      "E=+0.00000000  angles= {(0, 1): 2.4994441820116675, (0, 0): 4.500466029513586, (0, 4): 0.5001467556277949, (0, 3): 6.4998297184407, (0, 2): 0.49997622579025464}  samples= None\n",
      "E=+0.00000000  angles= {(0, 1): 2.4996903881984527, (0, 0): 4.500432152124706, (0, 4): 0.5003088953779866, (0, 3): 6.499427849178135, (0, 2): 0.4999550920890914}  samples= None\n",
      "E=+0.00000000  angles= {(0, 1): 2.5000510756034013, (0, 0): 4.501172345792463, (0, 4): 0.4998676945922965, (0, 3): 6.500037867209234, (0, 2): 0.5000839128885056}  samples= None\n",
      "E=+0.00000000  angles= {(0, 1): 2.499545596719968, (0, 0): 4.500234338372197, (0, 4): 0.4997260369396775, (0, 3): 6.49973999149796, (0, 2): 0.5000075168937421}  samples= None\n",
      "E=+0.00000000  angles= {(0, 1): 2.498742973364263, (0, 0): 4.500411747851287, (0, 4): 0.49945607211738596, (0, 3): 6.499238861137143, (0, 2): 0.49998993901563743}  samples= None\n",
      "E=+0.00000000  angles= {(0, 1): 2.4999619850948602, (0, 0): 4.499655765497659, (0, 4): 0.49997233444994865, (0, 3): 6.500217250358504, (0, 2): 0.49955647846237483}  samples= None\n"
     ]
    }
   ],
   "source": [
    "result = tq.optimizer_scipy.minimize(objective=objective, method=\"Cobyla\")"
   ]
  },
  {
   "cell_type": "markdown",
   "metadata": {},
   "source": [
    "Lets compute our wavefunction with the optimized angles"
   ]
  },
  {
   "cell_type": "code",
   "execution_count": 12,
   "metadata": {},
   "outputs": [
    {
     "name": "stdout",
     "output_type": "stream",
     "text": [
      "+0.7071i|00000> -0.0004|10000> -0.0000|01000> -0.0005|00100> +0.0002|00010> +0.0000i|11110> -0.0000|00001> -0.0002i|11101> +0.0005i|11011> +0.0000i|10111> +0.0004i|01111> +0.7071|11111> \n"
     ]
    }
   ],
   "source": [
    "final_wfn = tq.simulate(U, variables=result.angles)\n",
    "print(final_wfn)"
   ]
  },
  {
   "cell_type": "markdown",
   "metadata": {},
   "source": [
    "And plot some information about the optimization "
   ]
  },
  {
   "cell_type": "code",
   "execution_count": 13,
   "metadata": {},
   "outputs": [
    {
     "data": {
      "image/png": "[encoded data removed]",
      "text/plain": [
       "<Figure size 432x288 with 1 Axes>"
      ]
     },
     "metadata": {
      "needs_background": "light"
     },
     "output_type": "display_data"
    }
   ],
   "source": [
    "result.history.plot(\"energies\")"
   ]
  },
  {
   "cell_type": "code",
   "execution_count": 14,
   "metadata": {},
   "outputs": [
    {
     "data": {
      "image/png": "[encoded data removed]",
      "text/plain": [
       "<Figure size 432x288 with 1 Axes>"
      ]
     },
     "metadata": {
      "needs_background": "light"
     },
     "output_type": "display_data"
    }
   ],
   "source": [
    "result.history.plot(\"angles\")"
   ]
  },
  {
   "cell_type": "code",
   "execution_count": null,
   "metadata": {},
   "outputs": [],
   "source": []
  },
  {
   "cell_type": "code",
   "execution_count": null,
   "metadata": {},
   "outputs": [],
   "source": []
  }
 ],
 "metadata": {
  "kernelspec": {
   "display_name": "tequila-3.6",
   "language": "python",
   "name": "tequila-3.6"
  },
  "language_info": {
   "codemirror_mode": {
    "name": "ipython",
    "version": 3
   },
   "file_extension": ".py",
   "mimetype": "text/x-python",
   "name": "python",
   "nbconvert_exporter": "python",
   "pygments_lexer": "ipython3",
   "version": "3.6.9"
  }
 },
 "nbformat": 4,
 "nbformat_minor": 2
}
