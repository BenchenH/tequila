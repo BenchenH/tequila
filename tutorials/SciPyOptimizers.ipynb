{
 "cells": [
  {
   "cell_type": "markdown",
   "metadata": {},
   "source": [
    "# Tequila Tutorial: \n",
    "## Handling Optimizers, Initializing parametrized circuits"
   ]
  },
  {
   "cell_type": "code",
   "execution_count": 1,
   "metadata": {},
   "outputs": [],
   "source": [
    "# Import everything we need here\n",
    "import tequila as tq\n",
    "numpy = tq.numpy"
   ]
  },
  {
   "cell_type": "markdown",
   "metadata": {},
   "source": [
    "In the following example we will optimize a simple two qubit VQE with an Ansatz that is parametrized by two parameters.\n",
    "The Hamiltonian is also very simple and defined in the box below.\n",
    "$$ H = \\sigma_x(1) + c \\sigma_z(1) - \\sigma_z(0)$$\n",
    "\n",
    "<br>\n",
    "The tutorial is \\textbf{not} a guideline to optimization strategies but only intends to show tequilas functionality"
   ]
  },
  {
   "cell_type": "code",
   "execution_count": 2,
   "metadata": {},
   "outputs": [],
   "source": [
    "c = 0.5\n",
    "H = tq.paulis.X(1) + c*tq.paulis.Z(1) - tq.paulis.Z(0)"
   ]
  },
  {
   "cell_type": "markdown",
   "metadata": {},
   "source": [
    "Lets take a look at the spectrum of this very simple Hamiltonian  \n",
    "Keep in mind: Tequila is not a numerical linear algebra package, so better not try to diagonalize Hamiltonians  \n",
    "we however added this feature for user convenience in examples  \n",
    "In the future we might have interfaces to more powerfull numerical packages ... feel free to contribute :-) "
   ]
  },
  {
   "cell_type": "code",
   "execution_count": 3,
   "metadata": {},
   "outputs": [
    {
     "data": {
      "text/plain": [
       "DeviceArray([-2.118034  , -0.11803401,  0.11803401,  2.118034  ], dtype=float32)"
      ]
     },
     "execution_count": 3,
     "metadata": {},
     "output_type": "execute_result"
    }
   ],
   "source": [
    "matrix = H.to_matrix()\n",
    "e, v = numpy.linalg.eigh(matrix)\n",
    "e"
   ]
  },
  {
   "cell_type": "markdown",
   "metadata": {},
   "source": [
    "And here we initialize our Ansatz circuit which is parametrized by a and b.<br>\n",
    "\n",
    "We show to ways to initialize Variables:\n",
    "Variable a is initialized with a convenience string based initialization <br>\n",
    "Variable b is initialized as Variable which allows you to conveniently transforming it when initializing gates. Here we do a simple rescaling as an example <br>\n",
    "Note that you don't need strings to name variables but can use any hashable non-numeric type (meaning anything that is not interpreted as number). \n",
    "\n",
    "For example: tq.Variable(name=(0,1,2,3)) will also work\n",
    "\n",
    "\n",
    "The Ansatz has no specific meaning and it is more to show different ways how to deal with variables.\n",
    "See for instance that you can scale them and use the same variable in multiple gates. (See the other tutorials for more examples)"
   ]
  },
  {
   "cell_type": "code",
   "execution_count": 4,
   "metadata": {},
   "outputs": [],
   "source": [
    "a = tq.Variable(name=\"a\")\n",
    "b = tq.Variable(name=\"b\")\n",
    "c = tq.Variable(name=\"c\")\n",
    "\n",
    "a = 2.0*a*tq.numpy.pi # optimize a in units of 2pi\n",
    "b = 2.0*b*tq.numpy.pi # optimize b in units of 2pi\n",
    "c = 2.0*c*tq.numpy.pi # optimize c in units of 2pi\n",
    "\n",
    "U = tq.gates.Ry(target=0, angle=a)\n",
    "U += tq.gates.Ry(target=1, control=0, angle=b)\n",
    "U += tq.gates.X(target=1)\n",
    "U += tq.gates.Ry(target=1, control=0, angle=-b)\n",
    "U += tq.gates.Ry(target=0,angle=c)\n"
   ]
  },
  {
   "cell_type": "code",
   "execution_count": 5,
   "metadata": {},
   "outputs": [
    {
     "name": "stdout",
     "output_type": "stream",
     "text": [
      "circuit: \n",
      "Ry(target=(0,), parameter=VectorObjective with 0 unique expectation values\n",
      "variables = [a]\n",
      "types     = [])\n",
      "Ry(target=(1,), control=(0,), parameter=VectorObjective with 0 unique expectation values\n",
      "variables = [b]\n",
      "types     = [])\n",
      "X(target=(1,))\n",
      "Ry(target=(1,), control=(0,), parameter=VectorObjective with 0 unique expectation values\n",
      "variables = [b]\n",
      "types     = [])\n",
      "Ry(target=(0,), parameter=VectorObjective with 0 unique expectation values\n",
      "variables = [c]\n",
      "types     = [])\n",
      "\n"
     ]
    }
   ],
   "source": [
    "print(U)"
   ]
  },
  {
   "cell_type": "code",
   "execution_count": 6,
   "metadata": {},
   "outputs": [
    {
     "name": "stdout",
     "output_type": "stream",
     "text": [
      "0: ───Ry(0.318309886183791*pi*f((a,))_0)───@────────────────────────────────────────@────────────────────────────────────Ry(0.318309886183791*pi*f((c,))_3)───\n",
      "                                           │                                        │\n",
      "1: ────────────────────────────────────────Ry(0.318309886183791*pi*f((b,))_1)───X───Ry(0.318309886183791*pi*f((b,))_2)────────────────────────────────────────\n"
     ]
    }
   ],
   "source": [
    "# nice output (depends on which backends you have installed)\n",
    "tq.draw(U)"
   ]
  },
  {
   "cell_type": "markdown",
   "metadata": {},
   "source": [
    "In the next box we form an objective out of our Hamiltonian and our Ansatz and pass it down to the optimizer.\n",
    "In the following boxes we show how the results of the optimizer can be plotted\n",
    "\n",
    "See further below for some small exercises and additional information \n",
    "\n",
    "First lets see how objectives are created and simulated"
   ]
  },
  {
   "cell_type": "code",
   "execution_count": 7,
   "metadata": {},
   "outputs": [
    {
     "name": "stdout",
     "output_type": "stream",
     "text": [
      "energy : -6.556708949390089e-08\n",
      "wfn    : -0.5000|00> +0.5000|10> +0.5000|01> +0.5000|11> \n",
      "squared: 4.2990428789557375e-15\n"
     ]
    }
   ],
   "source": [
    "O = tq.VectorObjective.ExpectationValue(U=U, H=H)\n",
    "variables = {\"a\":0.25, \"b\":0.25, \"c\":0.25}\n",
    "energy = tq.simulate(O, variables=variables)\n",
    "wfn = tq.simulate(U, variables=variables)\n",
    "evaluate_squared = tq.simulate(O**2, variables=variables)\n",
    "print(\"energy : {}\".format(energy))\n",
    "print(\"wfn    : {}\".format(wfn))\n",
    "print(\"squared: {}\".format(evaluate_squared))"
   ]
  },
  {
   "cell_type": "markdown",
   "metadata": {},
   "source": [
    "Now the objective can be optimized \n",
    "\n",
    "We will also set the initial values of the variables that can be passed to the optimizer.  \n",
    "Values of variables are passed as dictionaries where the keys are tequila variables and the values are floats.  "
   ]
  },
  {
   "cell_type": "code",
   "execution_count": 8,
   "metadata": {},
   "outputs": [
    {
     "name": "stdout",
     "output_type": "stream",
     "text": [
      "Optimizer: <class 'tequila.optimizers.optimizer_scipy.OptimizerSciPy'> \n",
      "backend         : qulacs\n",
      "backend_options : {}\n",
      "samples         : None\n",
      "save_history    : True\n",
      "noise           : None\n",
      "\n",
      "Method          : BFGS\n",
      "VectorObjective       : 1 expectationvalues\n",
      "gradient        : 12 expectationvalues\n",
      "\n",
      "active variables : 3\n",
      "\n",
      "E=-0.66770238  angles= {a: 0.3, b: 0.3, c: 0.3}  samples= None\n",
      "E=-0.86641482  angles= {a: 0.32290425519998417, b: 1.3058406768884259, c: 0.3886562339058441}  samples= None\n",
      "E=-0.35434409  angles= {a: 0.41452127599992095, b: 5.3292033844421285, c: 0.7432811695292205}  samples= None\n",
      "E=-0.80480921  angles= {a: 0.3454565952234802, b: 2.296226994041704, c: 0.47595029847112946}  samples= None\n",
      "E=-1.08258143  angles= {a: 0.3555276683594922, b: 2.3162437658743937, c: 0.47268466185431224}  samples= None\n",
      "E=-1.92438448  angles= {a: 0.3958119609035401, b: 2.396310853205154, c: 0.45962211538704334}  samples= None\n",
      "E=+0.06258418  angles= {a: 0.8541594702738478, b: 2.4354660461406437, c: 0.23628931675683348}  samples= None\n",
      "E=-2.05964335  angles= {a: 0.44198770928041337, b: 2.400255502842546, c: 0.43712268230837514}  samples= None\n",
      "E=-1.81747664  angles= {a: 0.624945702521921, b: 2.389257335430303, c: 0.6644324551354136}  samples= None\n",
      "E=-2.09707552  angles= {a: 0.4845773594632337, b: 2.397695308043507, c: 0.49003670664980303}  samples= None\n",
      "E=-2.10044517  angles= {a: 0.49554750902065936, b: 2.425950479255173, c: 0.49588707381117236}  samples= None\n",
      "E=-2.11689104  angles= {a: 0.4903158270316504, b: 2.412475542605437, c: 0.49309702429115393}  samples= None\n",
      "E=-2.11802490  angles= {a: 0.5004530354135696, b: 2.41176828448091, c: 0.4998681193423691}  samples= None\n",
      "E=-2.11803399  angles= {a: 0.4999942303823347, b: 2.4118918603304658, c: 0.5000016128327001}  samples= None\n",
      "Optimization terminated successfully.\n",
      "         Current function value: -2.118034\n",
      "         Iterations: 7\n",
      "         Function evaluations: 14\n",
      "         Gradient evaluations: 14\n"
     ]
    }
   ],
   "source": [
    "initial_values = {'a':0.3, 'b':0.3, 'c':0.3}\n",
    "O = tq.VectorObjective.ExpectationValue(U=U, H=H)\n",
    "result = tq.minimize(objective=O, method=\"bfgs\", initial_values=initial_values, tol=1.e-3, method_options={\"gtol\":1.e-3})"
   ]
  },
  {
   "cell_type": "code",
   "execution_count": 9,
   "metadata": {},
   "outputs": [
    {
     "data": {
      "text/plain": [
       "-2.118033986209923"
      ]
     },
     "execution_count": 9,
     "metadata": {},
     "output_type": "execute_result"
    }
   ],
   "source": [
    "# final energy\n",
    "result.energy"
   ]
  },
  {
   "cell_type": "markdown",
   "metadata": {},
   "source": [
    "Plot out the History:\n",
    "Note, that we choose bad initial points since they are close to the maximum"
   ]
  },
  {
   "cell_type": "code",
   "execution_count": 10,
   "metadata": {
    "scrolled": true
   },
   "outputs": [
    {
     "data": {
      "image/png": "[encoded data removed]",
      "text/plain": [
       "<Figure size 432x288 with 1 Axes>"
      ]
     },
     "metadata": {
      "needs_background": "light"
     },
     "output_type": "display_data"
    }
   ],
   "source": [
    "result.history.plot('energies')"
   ]
  },
  {
   "cell_type": "code",
   "execution_count": 11,
   "metadata": {
    "scrolled": true
   },
   "outputs": [
    {
     "data": {
      "image/png": "[encoded data removed]",
      "text/plain": [
       "<Figure size 432x288 with 1 Axes>"
      ]
     },
     "metadata": {
      "needs_background": "light"
     },
     "output_type": "display_data"
    }
   ],
   "source": [
    "result.history.plot(property='angles', key=[\"a\", \"b\"])"
   ]
  },
  {
   "cell_type": "code",
   "execution_count": 12,
   "metadata": {},
   "outputs": [
    {
     "data": {
      "image/png": "[encoded data removed]",
      "text/plain": [
       "<Figure size 432x288 with 1 Axes>"
      ]
     },
     "metadata": {
      "needs_background": "light"
     },
     "output_type": "display_data"
    },
    {
     "data": {
      "image/png": "[encoded data removed]",
      "text/plain": [
       "<Figure size 432x288 with 1 Axes>"
      ]
     },
     "metadata": {
      "needs_background": "light"
     },
     "output_type": "display_data"
    }
   ],
   "source": [
    "# Convenience in the history plot\n",
    "result.history.plot(property='angles', key=\"a\")\n",
    "result.history.plot(property=['angles', 'gradients'], key=[\"c\"])"
   ]
  },
  {
   "cell_type": "markdown",
   "metadata": {},
   "source": [
    "# FAQ\n",
    "\n",
    "## 1: How can I extract the parameters from a given circuit?\n",
    "\n",
    "Call the 'extract_parameters' attribute and get back a list of all Variables in the circuit"
   ]
  },
  {
   "cell_type": "code",
   "execution_count": 13,
   "metadata": {},
   "outputs": [
    {
     "data": {
      "text/plain": [
       "[a, b, c]"
      ]
     },
     "execution_count": 13,
     "metadata": {},
     "output_type": "execute_result"
    }
   ],
   "source": [
    "angles = U.extract_variables()\n",
    "angles"
   ]
  },
  {
   "cell_type": "markdown",
   "metadata": {},
   "source": [
    "## 2: How can I do measurement based simulation?\n",
    "Pass down the 'samples' keyword to simulate finite samples\n",
    "See the later exercises to play around with sample number and optimization methods.\n",
    "\n",
    "Feel free to play around with the number of samples \n",
    "Don't excpect miracles from the optimizer, you might need to hit return a few times or increase the number of samples.<br>Note that stochastic gradients are not yet supported\n",
    "<br>Note also that we did not set the initial parameters, so we will start with all parameters set to 0 which is a stationary point in this example (full wavefunction simulation would get stuck, see also the exercise below).\n",
    "\n",
    "Sampling based simulation needs improvement. Don't expect too much, but feel free to contribute\n",
    "\n",
    "Lets only optimize veriable b and set the other to the correct value to also show how that works"
   ]
  },
  {
   "cell_type": "code",
   "execution_count": 14,
   "metadata": {},
   "outputs": [
    {
     "name": "stdout",
     "output_type": "stream",
     "text": [
      "Optimizer: <class 'tequila.optimizers.optimizer_scipy.OptimizerSciPy'> \n",
      "backend         : qiskit\n",
      "backend_options : {}\n",
      "samples         : 100\n",
      "save_history    : True\n",
      "noise           : None\n",
      "\n",
      "Method          : BFGS\n",
      "VectorObjective       : 1 expectationvalues\n",
      "gradient        : 8 expectationvalues\n",
      "\n",
      "active variables : 1\n",
      "\n",
      "E=-0.83000000  angles= {b: 0.3, a: 0.3, c: 0.3}  samples= 100\n",
      "E=-0.89000000  angles= {b: 1.31, a: 0.3, c: 0.3}  samples= 100\n",
      "E=-1.40000000  angles= {b: 5.3500000000000005, a: 0.3, c: 0.3}  samples= 100\n",
      "E=-1.71000000  angles= {b: 5.470164590030403, a: 0.3, c: 0.3}  samples= 100\n",
      "E=-2.02000000  angles= {b: 5.4283961489778925, a: 0.3, c: 0.3}  samples= 100\n",
      "E=-1.95000000  angles= {b: 5.438072999831487, a: 0.3, c: 0.3}  samples= 100\n",
      "E=-1.79000000  angles= {b: 5.4287201015216455, a: 0.3, c: 0.3}  samples= 100\n",
      "E=-1.67000000  angles= {b: 5.428396265879821, a: 0.3, c: 0.3}  samples= 100\n",
      "E=-1.81000000  angles= {b: 5.428396148977902, a: 0.3, c: 0.3}  samples= 100\n",
      "E=-1.95000000  angles= {b: 5.4283961489778925, a: 0.3, c: 0.3}  samples= 100\n",
      "E=-1.83000000  angles= {b: 5.4283961489778925, a: 0.3, c: 0.3}  samples= 100\n",
      "E=-1.74000000  angles= {b: 5.438072999831487, a: 0.3, c: 0.3}  samples= 100\n",
      "E=-1.55000000  angles= {b: 5.43323457440469, a: 0.3, c: 0.3}  samples= 100\n",
      "E=-1.78000000  angles= {b: 5.430815361691291, a: 0.3, c: 0.3}  samples= 100\n",
      "E=-1.76000000  angles= {b: 5.429605755334592, a: 0.3, c: 0.3}  samples= 100\n",
      "E=-1.72000000  angles= {b: 5.429000952156242, a: 0.3, c: 0.3}  samples= 100\n",
      "E=-1.74000000  angles= {b: 5.428698550567067, a: 0.3, c: 0.3}  samples= 100\n",
      "E=-1.80000000  angles= {b: 5.42854734977248, a: 0.3, c: 0.3}  samples= 100\n",
      "E=-1.91000000  angles= {b: 5.428471749375186, a: 0.3, c: 0.3}  samples= 100\n",
      "E=-1.75000000  angles= {b: 5.428433949176539, a: 0.3, c: 0.3}  samples= 100\n",
      "E=-1.88000000  angles= {b: 5.428415049077216, a: 0.3, c: 0.3}  samples= 100\n",
      "E=-1.83000000  angles= {b: 5.428405599027554, a: 0.3, c: 0.3}  samples= 100\n",
      "E=-1.65000000  angles= {b: 5.428400874002723, a: 0.3, c: 0.3}  samples= 100\n",
      "Warning: Desired error not necessarily achieved due to precision loss.\n",
      "         Current function value: -2.020000\n",
      "         Iterations: 3\n",
      "         Function evaluations: 23\n",
      "         Gradient evaluations: 11\n"
     ]
    },
    {
     "data": {
      "image/png": "[encoded data removed]",
      "text/plain": [
       "<Figure size 432x288 with 1 Axes>"
      ]
     },
     "metadata": {
      "needs_background": "light"
     },
     "output_type": "display_data"
    },
    {
     "name": "stdout",
     "output_type": "stream",
     "text": [
      "result =  -2.02\n"
     ]
    }
   ],
   "source": [
    "O = tq.VectorObjective.ExpectationValue(U=U, H=H)\n",
    "initial_values[\"a\"] = 0.3\n",
    "initial_values[\"c\"] = 0.3\n",
    "initial_values[\"b\"] = 0.3\n",
    "result = tq.minimize(objective=O, variables=[\"b\"], initial_values = initial_values, tol=1.e-3, samples=100, method=\"bfgs\")\n",
    "result.history.plot('energies')\n",
    "print(\"result = \", result.energy)"
   ]
  },
  {
   "cell_type": "markdown",
   "metadata": {},
   "source": [
    "## 3: Which Simulator was used and how can I choose the simulator?\n",
    "\n",
    "You can pass down the simulator to the optimizer by the simulator keyword (see below)\n",
    "If no specific simulator was chosen by you that means the simulator is automatically picked. Which simulator is picked depends on what simulators you have installed and if you demanded a full wavefunction to be simulated or not.\n",
    "\n",
    "You can check which simulators you have installed with the following"
   ]
  },
  {
   "cell_type": "code",
   "execution_count": 15,
   "metadata": {},
   "outputs": [
    {
     "name": "stdout",
     "output_type": "stream",
     "text": [
      "Supported Backends:\n",
      "\n",
      "qulacs\n",
      "qiskit\n",
      "cirq\n",
      "pyquil\n",
      "symbolic\n",
      "\n",
      "Installed Wavefunction Simulators:\n",
      "\n",
      "qiskit\n",
      "cirq\n",
      "qulacs\n",
      "pyquil\n",
      "symbolic\n",
      "\n",
      "Installed Wavefunction Samplers:\n",
      "\n",
      "qiskit\n",
      "cirq\n",
      "qulacs\n",
      "pyquil\n",
      "None\n"
     ]
    }
   ],
   "source": [
    "print(tq.show_available_simulators())"
   ]
  },
  {
   "cell_type": "markdown",
   "metadata": {},
   "source": [
    "Here is how you would initialize a simulator and pass it down the optimizer.\n",
    "The if statement is just to prevent your Ipython kernel from crashing when you have not installed the simulator\n",
    "Feel free to change it to something you have installed"
   ]
  },
  {
   "cell_type": "code",
   "execution_count": 16,
   "metadata": {},
   "outputs": [
    {
     "name": "stdout",
     "output_type": "stream",
     "text": [
      "Optimizer: <class 'tequila.optimizers.optimizer_scipy.OptimizerSciPy'> \n",
      "backend         : qiskit\n",
      "backend_options : {}\n",
      "samples         : None\n",
      "save_history    : True\n",
      "noise           : None\n",
      "\n",
      "Method          : BFGS\n",
      "VectorObjective       : 1 expectationvalues\n",
      "gradient        : 12 expectationvalues\n",
      "\n",
      "active variables : 3\n",
      "\n",
      "E=-0.66770238  angles= {a: 0.3, b: 0.3, c: 0.3}  samples= None\n",
      "E=-0.86641482  angles= {a: 0.32290425519998417, b: 1.3058406768884259, c: 0.3886562339058441}  samples= None\n",
      "E=-0.35434409  angles= {a: 0.41452127599992095, b: 5.3292033844421285, c: 0.7432811695292205}  samples= None\n",
      "E=-0.80480921  angles= {a: 0.3454565952234802, b: 2.296226994041704, c: 0.47595029847112946}  samples= None\n",
      "E=-1.08258143  angles= {a: 0.35552766835949223, b: 2.3162437658743937, c: 0.47268466185431224}  samples= None\n",
      "E=-1.92438448  angles= {a: 0.3958119609035403, b: 2.3963108532051542, c: 0.45962211538704323}  samples= None\n",
      "E=+0.06258418  angles= {a: 0.8541594702738473, b: 2.435466046140644, c: 0.23628931675683387}  samples= None\n",
      "E=-2.05964335  angles= {a: 0.4419877092804135, b: 2.4002555028425463, c: 0.4371226823083751}  samples= None\n",
      "E=-1.81747664  angles= {a: 0.6249457025219208, b: 2.3892573354303033, c: 0.6644324551354132}  samples= None\n",
      "E=-2.09707552  angles= {a: 0.4845773594632339, b: 2.3976953080435073, c: 0.4900367066498031}  samples= None\n",
      "E=-2.10044517  angles= {a: 0.49554750902065975, b: 2.4259504792551745, c: 0.4958870738111726}  samples= None\n",
      "E=-2.11689104  angles= {a: 0.4903158270316507, b: 2.412475542605438, c: 0.49309702429115415}  samples= None\n",
      "E=-2.11802490  angles= {a: 0.5004530354135699, b: 2.4117682844809107, c: 0.49986811934236935}  samples= None\n",
      "E=-2.11803399  angles= {a: 0.49999423038233504, b: 2.4118918603304667, c: 0.5000016128327004}  samples= None\n",
      "Optimization terminated successfully.\n",
      "         Current function value: -2.118034\n",
      "         Iterations: 7\n",
      "         Function evaluations: 14\n",
      "         Gradient evaluations: 14\n"
     ]
    },
    {
     "data": {
      "image/png": "[encoded data removed]",
      "text/plain": [
       "<Figure size 432x288 with 1 Axes>"
      ]
     },
     "metadata": {
      "needs_background": "light"
     },
     "output_type": "display_data"
    }
   ],
   "source": [
    "if 'qiskit' in tq.INSTALLED_BACKENDS: # failsafe to only execute cell when qiskit is actually there\n",
    "    O = tq.VectorObjective.ExpectationValue(U=U, H=H)\n",
    "    result = tq.minimize(objective=O, method=\"bfgs\",\n",
    "                                       initial_values=initial_values,\n",
    "                                       backend=\"qiskit\")\n",
    "    result.history.plot()"
   ]
  },
  {
   "cell_type": "code",
   "execution_count": 17,
   "metadata": {},
   "outputs": [
    {
     "data": {
      "image/png": "[encoded data removed]",
      "text/plain": [
       "<Figure size 432x288 with 1 Axes>"
      ]
     },
     "metadata": {
      "needs_background": "light"
     },
     "output_type": "display_data"
    }
   ],
   "source": [
    "result.history.plot('angles')"
   ]
  },
  {
   "cell_type": "markdown",
   "metadata": {},
   "source": [
    "## 4: Can I use numerical evaluation of gradients\n",
    "\n",
    "Yes you can, by passing down `use_gradient = False` or `use_gradient = \"2-point\"`.  \n",
    "`use_gradient = '3-point' or 'cs' ` are also possible for scipy methods which support them.  \n",
    "Check out the documentation of scipy.optimize.minimize for that.  \n",
    "You can also pass down further options (again, check scipy documentation) for different methods.  \n",
    "An important additional option is `eps` which defines the stepsizes for the '2-point' method."
   ]
  },
  {
   "cell_type": "code",
   "execution_count": 18,
   "metadata": {},
   "outputs": [
    {
     "name": "stdout",
     "output_type": "stream",
     "text": [
      "Optimizer: <class 'tequila.optimizers.optimizer_scipy.OptimizerSciPy'> \n",
      "backend         : qulacs\n",
      "backend_options : {}\n",
      "samples         : None\n",
      "save_history    : True\n",
      "noise           : None\n",
      "\n",
      "Method          : BFGS\n",
      "VectorObjective       : 1 expectationvalues\n",
      "gradient        : 12 expectationvalues\n",
      "\n",
      "active variables : 3\n",
      "\n",
      "E=-0.66770238  angles= {a: 0.3, b: 0.3, c: 0.3}  samples= None\n",
      "E=-0.86641482  angles= {a: 0.32290425519998417, b: 1.3058406768884259, c: 0.3886562339058441}  samples= None\n",
      "E=-0.35434409  angles= {a: 0.41452127599992095, b: 5.3292033844421285, c: 0.7432811695292205}  samples= None\n",
      "E=-0.80480921  angles= {a: 0.3454565952234802, b: 2.296226994041704, c: 0.47595029847112946}  samples= None\n",
      "E=-1.08258143  angles= {a: 0.3555276683594922, b: 2.3162437658743937, c: 0.47268466185431224}  samples= None\n",
      "E=-1.92438448  angles= {a: 0.3958119609035401, b: 2.396310853205154, c: 0.45962211538704334}  samples= None\n",
      "E=+0.06258418  angles= {a: 0.8541594702738478, b: 2.4354660461406437, c: 0.23628931675683348}  samples= None\n",
      "E=-2.05964335  angles= {a: 0.44198770928041337, b: 2.400255502842546, c: 0.43712268230837514}  samples= None\n",
      "E=-1.81747664  angles= {a: 0.624945702521921, b: 2.389257335430303, c: 0.6644324551354136}  samples= None\n",
      "E=-2.09707552  angles= {a: 0.4845773594632337, b: 2.397695308043507, c: 0.49003670664980303}  samples= None\n",
      "E=-2.10044517  angles= {a: 0.49554750902065936, b: 2.425950479255173, c: 0.49588707381117236}  samples= None\n",
      "E=-2.11689104  angles= {a: 0.4903158270316504, b: 2.412475542605437, c: 0.49309702429115393}  samples= None\n",
      "E=-2.11802490  angles= {a: 0.5004530354135696, b: 2.41176828448091, c: 0.4998681193423691}  samples= None\n",
      "E=-2.11803399  angles= {a: 0.4999942303823347, b: 2.4118918603304658, c: 0.5000016128327001}  samples= None\n",
      "Optimization terminated successfully.\n",
      "         Current function value: -2.118034\n",
      "         Iterations: 7\n",
      "         Function evaluations: 14\n",
      "         Gradient evaluations: 14\n"
     ]
    }
   ],
   "source": [
    "result = tq.minimize(objective=O, \n",
    "                     method=\"bfgs\",\n",
    "                     initial_values=initial_values,\n",
    "                     use_gradient='2-point',\n",
    "                     method_options = {'eps':1.e-3})"
   ]
  },
  {
   "cell_type": "markdown",
   "metadata": {},
   "source": [
    "## 5: Can I use Hessian based optimizations, and can I evaluate Hessians numerically?\n",
    "\n",
    "Yes you can, by just picking those methods (like for example 'dogleg' or 'newton-cg').\n",
    "For all 'trust-\\*' methods you can also pick different options (see again scipy documentation)\n",
    "\n",
    "Numerical evaluation for hessians works in the same way as for gradients by passing down `use_hessian` instead of `use_gradient`.  \n",
    "Be aware that not all combinations of `use_gradient` and `use_hessian` will work (usually you need to have the gradients analytically) and that most scipy methods do not support numerical evaluation of Hessians.\n",
    "Also do not confuse that with methods which use an approximation of the Hessian.\n",
    "Again: Check the scipy documentation for more information\n",
    "\n",
    "Here comes a small example where (note that the methods above will not converge to the minimum for this initial_values)"
   ]
  },
  {
   "cell_type": "code",
   "execution_count": 19,
   "metadata": {},
   "outputs": [
    {
     "data": {
      "text/plain": [
       "['TRUST-KRYLOV',\n",
       " 'NEWTON-CG',\n",
       " 'DOGLEG',\n",
       " 'TRUST-NCG',\n",
       " 'TRUST-EXACT',\n",
       " 'TRUST-CONSTR']"
      ]
     },
     "execution_count": 19,
     "metadata": {},
     "output_type": "execute_result"
    }
   ],
   "source": [
    "tq.optimizer_scipy.OptimizerSciPy.hessian_based_methods"
   ]
  },
  {
   "cell_type": "code",
   "execution_count": 20,
   "metadata": {},
   "outputs": [
    {
     "name": "stdout",
     "output_type": "stream",
     "text": [
      "Optimizer: <class 'tequila.optimizers.optimizer_scipy.OptimizerSciPy'> \n",
      "backend         : qulacs\n",
      "backend_options : {}\n",
      "samples         : None\n",
      "save_history    : True\n",
      "noise           : None\n",
      "\n",
      "Method          : TRUST-EXACT\n",
      "VectorObjective       : 1 expectationvalues\n",
      "gradient        : 12 expectationvalues\n",
      "hessian         : 180 expectationvalues\n",
      "\n",
      "active variables : 3\n",
      "\n",
      "E=-0.00000007  angles= {a: 0.25, b: 0.25, c: 0.25}  samples= None\n",
      "E=+0.05269369  angles= {a: 0.7529912140556206, b: 1.0785549466174393, c: 0.502601347555563}  samples= None\n",
      "E=-1.55817733  angles= {a: 0.3206953216741736, b: 0.4886356702541179, c: 0.27687910533487897}  samples= None\n",
      "E=-1.93961386  angles= {a: 0.48146764128116964, b: 0.37569465371455446, c: 0.4314643181826671}  samples= None\n",
      "E=-2.11533436  angles= {a: 0.48617821757697643, b: 0.414289311125187, c: 0.489558141540218}  samples= None\n",
      "E=-2.11803064  angles= {a: 0.5003924256143185, b: 0.4117774491935471, c: 0.5004618810154225}  samples= None\n",
      "E=-2.11803399  angles= {a: 0.5000005421704463, b: 0.4118957681598215, c: 0.5000006367071795}  samples= None\n",
      "Optimization terminated successfully.\n",
      "         Current function value: -2.118034\n",
      "         Iterations: 6\n",
      "         Function evaluations: 7\n",
      "         Gradient evaluations: 6\n",
      "         Hessian evaluations: 7\n"
     ]
    }
   ],
   "source": [
    "options = {\n",
    "    \"initial_tr_radius\":0.05,\n",
    "    \"max_tr_radius\":0.1\n",
    "}\n",
    "\n",
    "result = tq.optimizer_scipy.minimize(objective=O,\n",
    "                                    initial_values={\"a\":0.25, \"b\":0.25, \"c\":0.25},\n",
    "                                    method = \"trust-exact\",\n",
    "                                    method_options = options)\n"
   ]
  },
  {
   "cell_type": "markdown",
   "metadata": {},
   "source": [
    "# Exercises\n",
    "\n",
    "See farther down for solutions"
   ]
  },
  {
   "cell_type": "markdown",
   "metadata": {},
   "source": [
    "## Exercise 1\n",
    "\n",
    "You can pass down initial_values to the optimizer in the same format as you can do it with the circuit (see above).\n",
    "Figure out how to do that by checking out the documentation of the 'minimize' function."
   ]
  },
  {
   "cell_type": "markdown",
   "metadata": {},
   "source": [
    "## Exercise 2\n",
    "Figure out which method the optimizer above used and how to use a different optimization method."
   ]
  },
  {
   "cell_type": "code",
   "execution_count": 21,
   "metadata": {},
   "outputs": [
    {
     "name": "stdout",
     "output_type": "stream",
     "text": [
      "available methods for optimizer modules found on your system:\n",
      "method               | optimizer module\n",
      "-----------------------------\n",
      "NELDER-MEAD          | scipy\n",
      "COBYLA               | scipy\n",
      "POWELL               | scipy\n",
      "SLSQP                | scipy\n",
      "L-BFGS-B             | scipy\n",
      "BFGS                 | scipy\n",
      "CG                   | scipy\n",
      "TNC                  | scipy\n",
      "TRUST-KRYLOV         | scipy\n",
      "NEWTON-CG            | scipy\n",
      "DOGLEG               | scipy\n",
      "TRUST-NCG            | scipy\n",
      "TRUST-EXACT          | scipy\n",
      "TRUST-CONSTR         | scipy\n",
      "adam                 | gd\n",
      "adagrad              | gd\n",
      "adamax               | gd\n",
      "nadam                | gd\n",
      "sgd                  | gd\n",
      "momentum             | gd\n",
      "nesterov             | gd\n",
      "rmsprop              | gd\n",
      "rmsprop-nesterov     | gd\n",
      "lbfgs                | gpyopt\n",
      "direct               | gpyopt\n",
      "cma                  | gpyopt\n",
      "phoenics             | phoenics\n",
      "Supported optimizer modules:  ['scipy', 'phoenics', 'gpyopt', 'gd']\n",
      "Installed optimizer modules:  ['scipy', 'gd', 'gpyopt', 'phoenics']\n"
     ]
    }
   ],
   "source": [
    "# hints\n",
    "tq.show_available_optimizers()"
   ]
  },
  {
   "cell_type": "markdown",
   "metadata": {},
   "source": [
    "## Exercise 3\n",
    "If you initialize both parameters to 0.0 you will directly hit a stationary point which causes the optimizer stop.\n",
    "Find out how you can impose bounds on the variables in order to prevent the optimizer from hitting that point.\n",
    "\n",
    "Again: Check the documentation of the 'minimize' function.\n",
    "\n",
    "Note: Not all optimization methods of SciPy support bounds on the variables\n",
    "\n",
    "Note: It is not enough to just restrict the point 0.0"
   ]
  },
  {
   "cell_type": "markdown",
   "metadata": {},
   "source": [
    "# Solutions"
   ]
  },
  {
   "cell_type": "markdown",
   "metadata": {},
   "source": [
    "## Exercise 1 & 2"
   ]
  },
  {
   "cell_type": "code",
   "execution_count": 22,
   "metadata": {
    "scrolled": true
   },
   "outputs": [
    {
     "name": "stdout",
     "output_type": "stream",
     "text": [
      "WARNING: initial_variables given but not complete: Autocomplete with random number\n",
      "Optimizer: <class 'tequila.optimizers.optimizer_scipy.OptimizerSciPy'> \n",
      "backend         : qulacs\n",
      "backend_options : {}\n",
      "samples         : None\n",
      "save_history    : True\n",
      "noise           : None\n",
      "\n",
      "Method          : NELDER-MEAD\n",
      "VectorObjective       : 1 expectationvalues\n",
      "\n",
      "active variables : 3\n",
      "\n",
      "E=-0.96149218  angles= {a: 0.1, b: 0.1, c: 6.058239440379744}  samples= None\n",
      "E=-0.92437908  angles= {a: 0.10500000000000001, b: 0.1, c: 6.058239440379744}  samples= None\n",
      "E=-0.96090521  angles= {a: 0.1, b: 0.10500000000000001, c: 6.058239440379744}  samples= None\n",
      "E=+0.50819044  angles= {a: 0.1, b: 0.1, c: 6.361151412398732}  samples= None\n",
      "E=-0.87279647  angles= {a: 0.10333333333333336, b: 0.10333333333333336, c: 5.755327468360756}  samples= None\n",
      "E=-1.29952663  angles= {a: 0.10250000000000002, b: 0.10250000000000002, c: 5.90678345437025}  samples= None\n",
      "E=-1.29114632  angles= {a: 0.09666666666666665, b: 0.10499999999999998, c: 5.95726878304008}  samples= None\n",
      "E=-1.30406490  angles= {a: 0.09944444444444445, b: 0.09999999999999998, c: 5.889955011480305}  samples= None\n",
      "E=-1.10788179  angles= {a: 0.09916666666666668, b: 0.09749999999999998, c: 5.805812797030587}  samples= None\n",
      "E=-0.96866227  angles= {a: 0.09907407407407409, b: 0.10499999999999998, c: 5.777765392214015}  samples= None\n",
      "E=-1.22205091  angles= {a: 0.09930555555555558, b: 0.10375, c: 5.847883904255447}  samples= None\n",
      "E=-1.21838400  angles= {a: 0.09976851851851852, b: 0.10124999999999999, c: 5.988120928338311}  samples= None\n",
      "E=-1.28905856  angles= {a: 0.09942129629629631, b: 0.103125, c: 5.882943160276163}  samples= None\n",
      "E=-1.28721626  angles= {a: 0.09965277777777778, b: 0.101875, c: 5.953061672317595}  samples= None\n",
      "E=-1.30584373  angles= {a: 0.09947916666666667, b: 0.1028125, c: 5.900472788286521}  samples= None\n",
      "E=-1.21329136  angles= {a: 0.10428240740740746, b: 0.09854166666666667, c: 5.840872053051305}  samples= None\n",
      "E=-1.31091248  angles= {a: 0.09857060185185185, b: 0.10338541666666665, c: 5.928169600542886}  samples= None\n",
      "E=-1.32217782  angles= {a: 0.09582947530864196, b: 0.10163194444444439, c: 5.905614812502891}  samples= None\n",
      "E=-1.33219959  angles= {a: 0.09249421296296292, b: 0.10119791666666658, c: 5.905030491569212}  samples= None\n",
      "E=-1.32337125  angles= {a: 0.0942515432098765, b: 0.1049305555555555, c: 5.932493575452106}  samples= None\n",
      "E=-1.33355947  angles= {a: 0.09073173868312748, b: 0.1035300925925925, c: 5.943322990089614}  samples= None\n",
      "E=-1.32976661  angles= {a: 0.08635802469135789, b: 0.10388888888888875, c: 5.964748090991161}  samples= None\n",
      "E=-1.35468603  angles= {a: 0.08641439471879275, b: 0.10305362654320974, c: 5.9257284375310695}  samples= None\n",
      "E=-1.37237644  angles= {a: 0.0803362911522632, b: 0.10288773148148128, c: 5.92450785602516}  samples= None\n",
      "E=-1.36951961  angles= {a: 0.08145661865569256, b: 0.10014660493827143, c: 5.916080649670549}  samples= None\n",
      "E=-1.38367786  angles= {a: 0.07585555269775923, b: 0.10317836934156355, c: 5.950910505621005}  samples= None\n",
      "E=-1.39319346  angles= {a: 0.0675362225651574, b: 0.10416859567901204, c: 5.9738505126469015}  samples= None\n",
      "E=-1.41979530  angles= {a: 0.062154349565614636, b: 0.10127186213991735, c: 5.932969688805461}  samples= None\n",
      "E=-1.43433311  angles= {a: 0.047865655006858215, b: 0.10014274691357977, c: 5.927793038163383}  samples= None\n",
      "E=-1.45007001  angles= {a: 0.04903549382715999, b: 0.10465277777777729, c: 5.968020288219746}  samples= None\n",
      "E=-1.46973284  angles= {a: 0.03282493141289372, b: 0.10690586419753023, c: 5.993990107494344}  samples= None\n",
      "E=-1.48465744  angles= {a: 0.018481581504343023, b: 0.10459040637860009, c: 6.005914582844593}  samples= None\n",
      "E=-1.47020573  angles= {a: -0.012445773319617076, b: 0.10544174382715948, c: 6.046617946254308}  samples= None\n",
      "E=-1.48936947  angles= {a: -0.0014214439490940894, b: 0.10359074931412804, c: 5.977947973021312}  samples= None\n",
      "E=-1.42781814  angles= {a: -0.03590027720621983, b: 0.10330182613168604, c: 5.979996703208517}  samples= None\n",
      "E=-1.45366414  angles= {a: -0.014608942361429782, b: 0.10991526634659246, c: 6.05744207074345}  samples= None\n",
      "E=-1.48684957  angles= {a: 0.0010097069806422193, b: 0.10747213648833928, c: 6.025029812598433}  samples= None\n",
      "E=-1.49080386  angles= {a: -0.020778368388966288, b: 0.10352966392318139, c: 6.0119381381485475}  samples= None\n",
      "E=-1.44920897  angles= {a: -0.04758001828989629, b: 0.10184156378600695, c: 6.020912153475649}  samples= None\n",
      "E=-1.46876683  angles= {a: -0.03260831840928846, b: 0.10513796010516571, c: 6.004029366334269}  samples= None\n",
      "E=-1.49737031  angles= {a: 0.005709106525935152, b: 0.1047272948102415, c: 6.005443278717012}  samples= None\n",
      "E=-1.46905666  angles= {a: -0.01200351085539237, b: 0.10042633554336133, c: 5.971856447326147}  samples= None\n",
      "E=-1.49793387  angles= {a: -0.002243597478366428, b: 0.10571068625209479, c: 6.011736471280361}  samples= None\n",
      "E=-1.47582513  angles= {a: -0.010120462278504286, b: 0.10572101400955039, c: 6.0414639524093}  samples= None\n",
      "E=-1.49812701  angles= {a: -0.0035961985314466385, b: 0.10412331548798362, c: 5.9938269678683085}  samples= None\n",
      "E=-1.48837276  angles= {a: 0.02069124206638101, b: 0.1061778671103652, c: 5.9953996737619075}  samples= None\n",
      "E=-1.49777397  angles= {a: -0.010410965775129464, b: 0.10419171471997735, c: 6.007803522051887}  samples= None\n",
      "E=-1.49253812  angles= {a: -0.016542947715896837, b: 0.10462318282979564, c: 6.003468028750026}  samples= None\n",
      "E=-1.49949310  angles= {a: 0.00014609296547715396, b: 0.10470126681513003, c: 6.004949466225265}  samples= None\n",
      "E=-1.49870495  angles= {a: 0.006615163745572188, b: 0.10549846431682827, c: 5.999205081530738}  samples= None\n",
      "E=-1.49778598  angles= {a: 0.004353636264768229, b: 0.10383801149453317, c: 5.98691787246918}  samples= None\n",
      "E=-1.49948670  angles= {a: -0.0005942890425827636, b: 0.10524251756270439, c: 6.005531821577566}  samples= None\n",
      "E=-1.49187459  angles= {a: 0.007707510310424357, b: 0.10617151697512484, c: 6.012630611687406}  samples= None\n",
      "E=-1.49990226  angles= {a: -0.0007702713209788896, b: 0.10463536585976893, c: 5.998527878823083}  samples= None\n",
      "E=-1.49885216  angles= {a: -0.007427475344295187, b: 0.10422096917490731, c: 6.0068010295532055}  samples= None\n",
      "E=-1.49962028  angles= {a: -0.003916815571828344, b: 0.10454034296038754, c: 6.004902042547589}  samples= None\n",
      "E=-1.49980926  angles= {a: -0.0024330402423039556, b: 0.1040087995274866, c: 6.000054436819726}  samples= None\n",
      "E=-1.49867324  angles= {a: -0.004892844388884614, b: 0.104088405416632, c: 5.997373439235001}  samples= None\n",
      "E=-1.49988119  angles= {a: -0.001113641373113288, b: 0.10454805146550553, c: 6.003055459477699}  samples= None\n",
      "E=-1.49980180  angles= {a: 0.0010388469475642553, b: 0.1042544682747865, c: 5.996189807532748}  samples= None\n",
      "E=-1.49993589  angles= {a: -0.0002000686822838946, b: 0.10432593694618675, c: 5.9983678662864595}  samples= None\n",
      "E=-1.49996672  angles= {a: 0.0010437193247199075, b: 0.10499743665348754, c: 5.999913032905102}  samples= None\n",
      "E=-1.49975736  angles= {a: 0.002782099108231839, b: 0.10549175521648801, c: 5.999842330947789}  samples= None\n",
      "E=-1.49961346  angles= {a: 0.00116256092075137, b: 0.10475777484078994, c: 5.9948170591987315}  samples= None\n",
      "E=-1.49998760  angles= {a: -0.0005445907996471234, b: 0.10460048230932663, c: 6.000995859407958}  samples= None\n",
      "E=-1.49991964  angles= {a: 0.0009696445495048159, b: 0.10464720474623168, c: 6.000989960243265}  samples= None\n",
      "E=-1.49998155  angles= {a: 0.0005346655818838895, b: 0.10464424502461599, c: 6.000374439888219}  samples= None\n",
      "E=-1.49978274  angles= {a: 0.0008892647535883436, b: 0.10516883904543337, c: 6.0024876885143925}  samples= None\n",
      "E=-1.49999403  angles= {a: 7.226467668416494e-05, b: 0.10453666247099841, c: 5.999397821843443}  samples= None\n",
      "E=-1.49997864  angles= {a: -0.0010021596854392868, b: 0.10419015654980648, c: 6.000599047854646}  samples= None\n",
      "E=-1.49999502  angles= {a: -0.0004906899328994882, b: 0.10439197657572674, c: 6.00042754411726}  samples= None\n",
      "E=-1.49996016  angles= {a: -0.0011766762857921874, b: 0.10437516921275185, c: 6.0001730436908876}  samples= None\n",
      "E=-1.49999647  angles= {a: 0.00010683011496487031, b: 0.10457697607164995, c: 6.000324090838886}  samples= None\n",
      "Optimization terminated successfully.\n",
      "         Current function value: -1.499996\n",
      "         Iterations: 38\n",
      "         Function evaluations: 73\n"
     ]
    }
   ],
   "source": [
    "O = tq.VectorObjective.ExpectationValue(U=U, H=H)\n",
    "result = tq.minimize(objective=O, method='Nelder-Mead', maxiter=100, initial_values={'a':0.1, 'b':0.1})"
   ]
  },
  {
   "cell_type": "code",
   "execution_count": 23,
   "metadata": {},
   "outputs": [
    {
     "data": {
      "image/png": "[encoded data removed]",
      "text/plain": [
       "<Figure size 432x288 with 1 Axes>"
      ]
     },
     "metadata": {
      "needs_background": "light"
     },
     "output_type": "display_data"
    },
    {
     "data": {
      "image/png": "[encoded data removed]",
      "text/plain": [
       "<Figure size 432x288 with 1 Axes>"
      ]
     },
     "metadata": {
      "needs_background": "light"
     },
     "output_type": "display_data"
    }
   ],
   "source": [
    "result.history.plot('energies')\n",
    "result.history.plot('angles')"
   ]
  },
  {
   "cell_type": "markdown",
   "metadata": {},
   "source": [
    "## Exercise 3"
   ]
  },
  {
   "cell_type": "code",
   "execution_count": 24,
   "metadata": {},
   "outputs": [
    {
     "name": "stdout",
     "output_type": "stream",
     "text": [
      "WARNING: initial_variables given but not complete: Autocomplete with random number\n",
      "Optimizer: <class 'tequila.optimizers.optimizer_scipy.OptimizerSciPy'> \n",
      "backend         : qulacs\n",
      "backend_options : {}\n",
      "samples         : None\n",
      "save_history    : True\n",
      "noise           : None\n",
      "\n",
      "Method          : TNC\n",
      "VectorObjective       : 1 expectationvalues\n",
      "gradient        : 12 expectationvalues\n",
      "\n",
      "active variables : 3\n",
      "\n",
      "E=-1.25517070  angles= {a: 0.0, b: 0.0, c: 2.8862230935311985}  samples= None\n",
      "E=-1.25517595  angles= {a: 6.137498331781899e-08, b: 0.0, c: 2.8862240204609964}  samples= None\n",
      "E=-1.49901417  angles= {a: 0.006626780466007309, b: 0.0, c: 2.986305569232567}  samples= None\n",
      "E=-1.49901417  angles= {a: 0.006626780473378755, b: -8.935273843776125e-11, c: 2.9863055693438967}  samples= None\n",
      "E=-1.50002524  angles= {a: 0.007108655800959868, b: -0.005841035478619157, c: 2.99358324829529}  samples= None\n",
      "E=-1.50002524  angles= {a: 0.007108655802057203, b: -0.005841035559088444, c: 2.9935832482855984}  samples= None\n",
      "E=-1.50006301  angles= {a: 0.007180213092469044, b: -0.011088445656946007, c: 2.992951239160621}  samples= None\n",
      "E=-1.49999930  angles= {a: 0.007537999550014923, b: -0.03732549654858026, c: 2.9897911934872723}  samples= None\n",
      "E=-1.50008706  angles= {a: 0.007359106321241983, b: -0.024206971102763132, c: 2.9913712163239463}  samples= None\n",
      "E=-1.50008812  angles= {a: 0.007269659706855514, b: -0.01764770837985457, c: 2.9921612277422835}  samples= None\n",
      "E=-1.50008812  angles= {a: 0.007269659706855514, b: -0.01764770837985457, c: 2.9921612277422835}  samples= None\n"
     ]
    },
    {
     "data": {
      "image/png": "[encoded data removed]",
      "text/plain": [
       "<Figure size 432x288 with 1 Axes>"
      ]
     },
     "metadata": {
      "needs_background": "light"
     },
     "output_type": "display_data"
    }
   ],
   "source": [
    "# this will get stuck (similar for other gradient based optimizers)\n",
    "zeroes = {'a':0.0, 'b':0.0}\n",
    "shift = 1.0\n",
    "O = tq.VectorObjective.ExpectationValue(U=U, H=H)\n",
    "result = tq.minimize(objective=O, method='TNC', initial_values=zeroes)\n",
    "result.history.plot()"
   ]
  },
  {
   "cell_type": "code",
   "execution_count": 25,
   "metadata": {},
   "outputs": [
    {
     "name": "stdout",
     "output_type": "stream",
     "text": [
      "WARNING: initial_variables given but not complete: Autocomplete with random number\n",
      "Optimizer: <class 'tequila.optimizers.optimizer_scipy.OptimizerSciPy'> \n",
      "backend         : qulacs\n",
      "backend_options : {}\n",
      "samples         : None\n",
      "save_history    : True\n",
      "noise           : None\n",
      "\n",
      "Method          : TNC\n",
      "VectorObjective       : 1 expectationvalues\n",
      "bounds          : {a: (-6.183185307179587, -0.1), b: (-6.183185307179587, -0.1), c: (-6.183185307179587, -0.1)}\n",
      "gradient        : 12 expectationvalues\n",
      "\n",
      "active variables : 3\n",
      "\n",
      "E=-0.93282629  angles= {a: -0.1, b: -0.1, c: -0.1}  samples= None\n",
      "E=-0.93282632  angles= {a: -0.1, b: -0.1000000260708811, c: -0.1}  samples= None\n",
      "E=-0.93282632  angles= {a: -0.10000000000000009, b: -0.10000002095701488, c: -0.10000000000000009}  samples= None\n",
      "E=-0.85684291  angles= {a: -0.10000000000000009, b: -1.037600964376601, c: -0.10000000000000009}  samples= None\n",
      "E=-1.52410957  angles= {a: -0.10000000000000009, b: -0.5688004821883004, c: -0.10000000000000009}  samples= None\n",
      "E=-1.17486323  angles= {a: -0.10000000000000009, b: -0.33440024109415045, c: -0.10000000000000009}  samples= None\n",
      "E=-1.42102169  angles= {a: -0.10000000000000009, b: -0.4516003616412254, c: -0.10000000000000009}  samples= None\n",
      "E=-1.51110580  angles= {a: -0.10000000000000009, b: -0.5102004219147629, c: -0.10000000000000009}  samples= None\n",
      "E=-1.52912871  angles= {a: -0.10000000000000009, b: -0.5395004520515316, c: -0.10000000000000009}  samples= None\n",
      "E=-1.52912872  angles= {a: -0.10000001865469033, b: -0.5395004701273152, c: -0.10000000000000009}  samples= None\n",
      "E=-1.53564152  angles= {a: -0.1089936065588133, b: -0.5482149622484944, c: -0.10000000000000009}  samples= None\n",
      "E=-1.49819113  angles= {a: -0.1539616393528811, b: -0.5917875132333084, c: -0.10000000000000009}  samples= None\n",
      "E=-1.53431023  angles= {a: -0.1314776229558472, b: -0.5700012377409016, c: -0.10000000000000009}  samples= None\n",
      "E=-1.53853575  angles= {a: -0.12023561475733002, b: -0.559108099994698, c: -0.10000000000000009}  samples= None\n",
      "E=-1.53853576  angles= {a: -0.12023562384028263, b: -0.5591081056765477, c: -0.10000001270613357}  samples= None\n",
      "E=-1.54870527  angles= {a: -0.13684018533040687, b: -0.56949510559937, c: -0.12322811665387023}  samples= None\n",
      "E=-1.43248514  angles= {a: -0.21986303819579245, b: -0.6214301336227308, c: -0.2393686999232214}  samples= None\n",
      "E=-1.53028584  angles= {a: -0.17835161176309944, b: -0.5954626196110504, c: -0.18129840828854604}  samples= None\n",
      "E=-1.54859525  angles= {a: -0.1575958985467536, b: -0.5824788626052104, c: -0.15226326247120836}  samples= None\n",
      "E=-1.55069489  angles= {a: -0.14721804193858024, b: -0.5759869841022902, c: -0.1377456895625393}  samples= None\n",
      "E=-1.55069493  angles= {a: -0.14721808411890658, b: -0.5759869788848877, c: -0.13774574829605868}  samples= None\n",
      "E=+0.98301664  angles= {a: -1.70693237939872, b: -0.3830615666174202, c: -2.3095523303356984}  samples= None\n",
      "E=-0.20115899  angles= {a: -0.92707521066865, b: -0.479524275359855, c: -1.2236490099491186}  samples= None\n",
      "E=-1.42432345  angles= {a: -0.5371466263036151, b: -0.5277556297310726, c: -0.6806973497558286}  samples= None\n",
      "E=-1.77883764  angles= {a: -0.34218233412109766, b: -0.5518713069166816, c: -0.4092215196591842}  samples= None\n",
      "E=-1.69579001  angles= {a: -0.4396644802123566, b: -0.5398134683238771, c: -0.5449594347075064}  samples= None\n",
      "E=-1.76489436  angles= {a: -0.3909234071667269, b: -0.5458423876202794, c: -0.4770904771833453}  samples= None\n",
      "E=-1.77869633  angles= {a: -0.3665528706439125, b: -0.5488568472684805, c: -0.44315599842126474}  samples= None\n",
      "E=-1.78041857  angles= {a: -0.3543676023825051, b: -0.5503640770925808, c: -0.42618875904022424}  samples= None\n",
      "E=-1.78041862  angles= {a: -0.35436763970955143, b: -0.550364076939827, c: -0.42618880642156753}  samples= None\n",
      "E=-1.80505513  angles= {a: -0.443979165977074, b: -0.5499973588958604, c: -0.5399378142090785}  samples= None\n",
      "E=-1.80675593  angles= {a: -0.39917338417978954, b: -0.5501807179942206, c: -0.4830632866246516}  samples= None\n",
      "E=-1.80981300  angles= {a: -0.421576275078432, b: -0.5500890384450408, c: -0.5115005504168648}  samples= None\n",
      "E=-1.80981356  angles= {a: -0.42157654379227383, b: -0.5500891757324116, c: -0.5115008858896015}  samples= None\n",
      "E=-1.83646037  angles= {a: -0.5201675149875684, b: -0.6004598417515106, c: -0.6345856615797612}  samples= None\n",
      "E=-1.90826955  angles= {a: -0.470871895033, b: -0.5752744400982759, c: -0.573043105998313}  samples= None\n",
      "E=-1.90826955  angles= {a: -0.47087189921148687, b: -0.5752744402119254, c: -0.5730431039260084}  samples= None\n",
      "E=-1.65971484  angles= {a: -0.6319409584497069, b: -0.5796553126657811, c: -0.49316151407859543}  samples= None\n",
      "E=-2.07811727  angles= {a: -0.5514064267413534, b: -0.5774648763820283, c: -0.5331023100384544}  samples= None\n",
      "E=-2.06806430  angles= {a: -0.5111391608871769, b: -0.5763696582401523, c: -0.5530727080183837}  samples= None\n",
      "E=-2.09243106  angles= {a: -0.531272793814265, b: -0.57691726731109, c: -0.5430875090284188}  samples= None\n",
      "E=+1.66725121  angles= {a: -0.461247998333822, b: -1.9010770274734252, c: -0.10000000000000009}  samples= None\n",
      "E=-0.07566986  angles= {a: -0.49626039607404326, b: -1.2389971473922576, c: -0.32154375451420947}  samples= None\n",
      "E=-0.22538584  angles= {a: -0.5137665949441539, b: -0.9079572073516737, c: -0.4323156317713144}  samples= None\n",
      "E=-0.58819603  angles= {a: -0.5225196943792096, b: -0.7424372373313819, c: -0.48770157039986684}  samples= None\n",
      "E=-1.68397872  angles= {a: -0.5268962440967369, b: -0.6596772523212362, c: -0.5153945397141428}  samples= None\n",
      "E=-2.02527875  angles= {a: -0.5290845189555009, b: -0.6182972598161629, c: -0.5292410243712808}  samples= None\n",
      "E=-2.09615863  angles= {a: -0.5301786563848827, b: -0.5976072635636269, c: -0.5361642666998501}  samples= None\n",
      "E=-2.10373831  angles= {a: -0.530725725099574, b: -0.5872622654373583, c: -0.5396258878641342}  samples= None\n",
      "E=-2.10373831  angles= {a: -0.5307257248720574, b: -0.5872622654717774, c: -0.5396258876105398}  samples= None\n",
      "E=-2.10998817  angles= {a: -0.5219366954443703, b: -0.5885918745962333, c: -0.5298294545393656}  samples= None\n",
      "E=-2.10757705  angles= {a: -0.47799154716835046, b: -0.5952399203906067, c: -0.48084728791552234}  samples= None\n",
      "E=-2.11618273  angles= {a: -0.49996412130636037, b: -0.5919158974934202, c: -0.505338371227444}  samples= None\n",
      "E=-1.88950655  angles= {a: -0.6304121119420119, b: -0.10000000000000009, c: -0.3503881124124737}  samples= None\n",
      "E=+0.32011759  angles= {a: -0.5651881166241863, b: -0.3459579487467104, c: -0.42786324181995905}  samples= None\n",
      "E=-1.00234720  angles= {a: -0.5325761189652733, b: -0.4689369231200651, c: -0.4666008065237013}  samples= None\n",
      "E=-1.81821211  angles= {a: -0.5162701201358169, b: -0.5304264103067431, c: -0.48596958887557307}  samples= None\n",
      "E=-2.05128526  angles= {a: -0.5081171207210886, b: -0.5611711539000814, c: -0.4956539800515083}  samples= None\n",
      "E=-2.10590221  angles= {a: -0.5040406210137243, b: -0.576543525696751, c: -0.5004961756394763}  samples= None\n",
      "E=-2.11663668  angles= {a: -0.5020023711600428, b: -0.5842297115950856, c: -0.5029172734334599}  samples= None\n",
      "E=-2.11780892  angles= {a: -0.5009832462332016, b: -0.5880728045442529, c: -0.5041278223304522}  samples= None\n",
      "E=-2.11780892  angles= {a: -0.5009832462332016, b: -0.5880728045442529, c: -0.5041278223304522}  samples= None\n"
     ]
    },
    {
     "data": {
      "image/png": "[encoded data removed]",
      "text/plain": [
       "<Figure size 432x288 with 1 Axes>"
      ]
     },
     "metadata": {
      "needs_background": "light"
     },
     "output_type": "display_data"
    }
   ],
   "source": [
    "# bounding the variables to keep it away from the stationary point which occurs at 0 and is periodic in 2pi\n",
    "# using negative values since that converges faster\n",
    "zeroes = {'a':0.0, 'b':0.0}\n",
    "shift = 1.0\n",
    "bounds = {'a':(-2*numpy.pi+0.1, -0.1), 'b':(-2*numpy.pi+0.1, -0.1), 'c':(-2*numpy.pi+0.1, -0.1) }\n",
    "O = tq.VectorObjective.ExpectationValue(U=U, H=H)\n",
    "result = tq.minimize(objective=O, method='TNC', initial_values=zeroes, method_bounds=bounds)\n",
    "result.history.plot()"
   ]
  },
  {
   "cell_type": "code",
   "execution_count": 26,
   "metadata": {},
   "outputs": [
    {
     "data": {
      "image/png": "[encoded data removed]",
      "text/plain": [
       "<Figure size 432x288 with 1 Axes>"
      ]
     },
     "metadata": {
      "needs_background": "light"
     },
     "output_type": "display_data"
    }
   ],
   "source": [
    "result.history.plot('angles')"
   ]
  }
 ],
 "metadata": {
  "kernelspec": {
   "display_name": "tequila-3.6",
   "language": "python",
   "name": "tequila-3.6"
  },
  "language_info": {
   "codemirror_mode": {
    "name": "ipython",
    "version": 3
   },
   "file_extension": ".py",
   "mimetype": "text/x-python",
   "name": "python",
   "nbconvert_exporter": "python",
   "pygments_lexer": "ipython3",
   "version": "3.6.9"
  }
 },
 "nbformat": 4,
 "nbformat_minor": 2
}
