{
 "cells": [
  {
   "cell_type": "markdown",
   "metadata": {},
   "source": [
    "# Tequila Tutorial:\n",
    "\n",
    "## Single-qubit classifier with data re-uploading\n",
    "\n",
    "This tutorial shows:\n",
    "- How to construct a fidelity cost function for an optimization problem\n",
    "- How to construct a quantum classifier with one qubit\n",
    "\n",
    "Based on [Data re-uploading for a universal quantum classifier](https://quantum-journal.org/papers/q-2020-02-06-226/), A. Pérez-Salinas, A. Cervera-Lierta, E. Gil-Fuster, and J. I. Latorre, *Quantum **4**, 226 (2020)*."
   ]
  },
  {
   "cell_type": "code",
   "execution_count": 1,
   "metadata": {},
   "outputs": [],
   "source": [
    "import tequila as tq\n",
    "import numpy as np\n",
    "import matplotlib.pyplot as plt\n",
    "from numpy import random\n",
    "import time"
   ]
  },
  {
   "cell_type": "markdown",
   "metadata": {},
   "source": [
    "### Introduction\n",
    "\n",
    "Single-qubit operations are just rotations on the Bloch sphere. A collection of single-qubit rotations can be reduced to a single one by combining their angles: you can always move from one point to another on the Bloch sphere with a single operation. \n",
    "\n",
    "Because of this property, a single-qubit classifier with simple parameterized rotations can not treat complex data. Even if it succeeds to classify one data point, it will probably misclassify the others since rotational angles have been only adapted to one particular point. To circumvent this limitation one can introduce the data points into these angles, so each rotation will be data point-dependent. This methodology is called data re-uploading and it can be shown that a single-qubit classifier can be universal using this technique.\n",
    "\n",
    "The strategy to train this single-qubit classifier is the following. Given a problem with 𝑛n classes, we choose 𝑛n vectors on the Bloch sphere. Then, we train the classifier by constructing a cost function that adds penalties if the final state of the classifier is far from the target state that corresponds to its class.\n",
    "\n",
    "The single-qubit classifier circuit is divided into layers. Each layer comprises single-qubit rotations that encode a data training point and parameters to be optimized. $$ L\\left(\\vec{x};\\vec{\\theta}_{i}\\right) = U\\left(\\vec{x}\\right)U\\left(\\vec{\\theta}_{i}\\right) $$\n",
    "By considering more layers, the final state of the classifier will have a richer structure in terms of the data point $\\vec{x}$.\n",
    "\n",
    "$$ \\mathcal{U}_{class}\\left(\\vec{x};\\vec{\\theta}_{1},\\vec{\\theta}_{2},...,\\vec{\\theta}_{l}\\right) = L\\left(\\vec{x};\\vec{\\theta}_{1}\\right)L\\left(\\vec{x};\\vec{\\theta}_{2}\\right)\\cdots L\\left(\\vec{x};\\vec{\\theta}_{l}\\right)$$\n",
    "\n",
    "We will run a $\\mathcal{U}_{class}$ for each training point $\\vec{x}$, but the parameters $\\vec{\\theta}$ are the same. These are the variables to be optimized classically through the cost function."
   ]
  },
  {
   "cell_type": "markdown",
   "metadata": {},
   "source": [
    "### Model"
   ]
  },
  {
   "cell_type": "markdown",
   "metadata": {},
   "source": [
    "Let's define the model that we would like to classify. Let's start with a simple model with two classes: a circle of radius $r =\\sqrt{2/\\pi}$ centered at (0,0). Data points will be distributed in a square of length 2 centered at (0,0). The particular choice of the circle radius implies that a random classification will have a $\\sim 50$% accuracy.\n",
    "\n",
    "`circle` function will have two parts:\n",
    "- `random = True`: generate and label random points according to their position inside or outside the circle (used for training)\n",
    "- `random = False`: computes the label of a given point `x_input` (used for testing)"
   ]
  },
  {
   "cell_type": "code",
   "execution_count": 2,
   "metadata": {},
   "outputs": [],
   "source": [
    "np.random.seed(42)\n",
    "\n",
    "def circle(samples = False, random = True, x_input = False, center=[0.0, 0.0], radius=np.sqrt(2 / np.pi)):   \n",
    "    \"\"\"\n",
    "    Args:\n",
    "        samples (int): number of samples to generate\n",
    "        random = True: generates and labels sample random points\n",
    "        random = False: labels x_input point\n",
    "        x_input (array[tuple]): given point to be labeled if random = False\n",
    "        center (tuple): center of the circle\n",
    "        radius (float): radius of the circle\n",
    "\n",
    "    Returns:\n",
    "        if random = True:\n",
    "            xvals (array[tuple]): data points coordinates \n",
    "            yvals (array[int]): corresponding data labels\n",
    "        if random = False:\n",
    "            y (int): label of x_input point\n",
    "    \"\"\"\n",
    "    xvals, yvals = [], []\n",
    "\n",
    "    if random == True:\n",
    "        for i in range(samples):\n",
    "            x = 2 * (np.random.rand(2)) - 1\n",
    "            y = 0\n",
    "            if np.linalg.norm(x - center) < radius:\n",
    "                y = 1\n",
    "            xvals.append(x)\n",
    "            yvals.append(y)        \n",
    "        return np.array(xvals), np.array(yvals)\n",
    "    \n",
    "    if random == False:\n",
    "        y = 0\n",
    "        if np.linalg.norm(x_input - center) < radius:\n",
    "            y = 1\n",
    "        return y"
   ]
  },
  {
   "cell_type": "markdown",
   "metadata": {},
   "source": [
    "### Target states\n",
    "\n",
    "Next step is to fix the classes states. The classifier will be trained to return these states depending on the data point. To reduce the uncertanty, target states should be as much distanced as possible. With a single qubit, that means to choose points in the Bloch sphere as much separated as possible.\n",
    "For a two-class problem, an easy choice is $|0\\rangle$ and $|1\\rangle$ states."
   ]
  },
  {
   "cell_type": "code",
   "execution_count": 3,
   "metadata": {},
   "outputs": [],
   "source": [
    "# |0> : points inside the circle\n",
    "# |1> : points outside the circle\n",
    "def targ_wfn(y, nclass):\n",
    "    \"\"\"\n",
    "    Arg:\n",
    "        - y (int): class label\n",
    "        - nclass: number of classes\n",
    "    Returns:\n",
    "        - wfn: wavefunction of the target state\n",
    "    \"\"\"\n",
    "    if nclass == 2:\n",
    "        if y==0:\n",
    "            wfn = tq.QubitWaveFunction.from_array(np.asarray([1,0]))\n",
    "        if y==1:\n",
    "            wfn = tq.QubitWaveFunction.from_array(np.asarray([0,1]))\n",
    "    else:\n",
    "        raise Exception(\"nclass = {} is not considered\".format(nclass))\n",
    "    return wfn"
   ]
  },
  {
   "cell_type": "markdown",
   "metadata": {},
   "source": [
    "### Single-qubit classifier circuit\n",
    "\n",
    "The single-qubit classifier has a layer structure, i.e. we have to decide how to design one layer and then how many layers we would like to consider. \n",
    "We will consider the following structure: each layer is a collection of rotational gates which angles are a linear function of a data point with the free parameters to be optimized. In particular,\n",
    "$$L\\left(\\vec{x};\\vec{\\theta}_{i}\\right) = R_{z}\\left(x^{2}+\\theta_{i}^{2}\\right) R_{y}\\left(x^{1}+\\theta_{i}^{1}\\right).$$\n",
    "Then, each layer adds 2 parameters to be optimized. The data points $(x^1,x^2)$ are re-uploaded in each layer."
   ]
  },
  {
   "cell_type": "code",
   "execution_count": 4,
   "metadata": {},
   "outputs": [],
   "source": [
    "# single-qubit quantum classifier circuit\n",
    "def qcircuit(xval, param):\n",
    "    \"\"\"\n",
    "    Arg:\n",
    "        - xval (array[tuple]): data point\n",
    "        - param (dict): parameters dictionary\n",
    "    Returns:\n",
    "        - qc: quantum circuit\n",
    "    \"\"\"\n",
    "    layers = int((len(param))/2) # 2 parameters/layer\n",
    "    # initialize the circuit \n",
    "    qc = tq.gates.Rz(0.0,0)\n",
    "    for p in range(0,2*layers-1):\n",
    "        # add layers to the circuit\n",
    "        qc += tq.gates.Ry(xval[0] + param[p],0) + tq.gates.Rz(xval[1] + param[p+1],0) \n",
    "    return qc"
   ]
  },
  {
   "cell_type": "markdown",
   "metadata": {},
   "source": [
    "### Cost function\n",
    "\n",
    "The cost function for this quantum classifier model will be constructed from the fidelity of the classifier final state respect to the target state of its corresponding class. It will penalize that the output state is far from its label state.\n",
    "\n",
    "First, we define the fidelity between two states as an objective (see State Preparation Tutorial). Then, we construct the simplest cost function of this kind: average of squared infidelities for all training points $M$: $$ \\chi^2 = \\sum_{i=1}^{M}\\left(1-|\\langle\\psi_{target}|\\psi_{circuit}\\rangle|^2\\right)^2$$ "
   ]
  },
  {
   "cell_type": "code",
   "execution_count": 5,
   "metadata": {},
   "outputs": [],
   "source": [
    "# Fidelity objective\n",
    "def fid(wfn_targ, qc):\n",
    "    \"\"\"\n",
    "    Arg:\n",
    "        - wfn_targ: target wavefunction\n",
    "        - qc : quantum circuit \n",
    "    Returns:\n",
    "        - O: objective\n",
    "    \"\"\"  \n",
    "    rho_targ =  tq.paulis.Projector(wfn=wfn_targ)\n",
    "    O = tq.VectorObjective.ExpectationValue(U=qc, H=rho_targ)\n",
    "    # fidelity = tq.simulate(O)\n",
    "    return O \n",
    "\n",
    "# cost function: sum of all infidelities for each data point respect the label state\n",
    "def cost(x, y, param, nclass):\n",
    "    \"\"\"\n",
    "    Arg:\n",
    "        - x (array[tuple]): training points\n",
    "        - y (array[int]): labels of training points\n",
    "        - param (dict): parameters dictionary\n",
    "        - nclass (int): number of classes\n",
    "    Returns:\n",
    "        - loss/ len(x): loss objective\n",
    "    \"\"\"  \n",
    "    loss = 0.0\n",
    "    # M = len(y): number of training points\n",
    "    for i in range(len(y)):\n",
    "        \n",
    "        # state generated by the classifier\n",
    "        qc = qcircuit(x[i], param)\n",
    "        # fidelity objective respect to the label state\n",
    "        f = fid(targ_wfn(y[i],nclass), qc)\n",
    "        \n",
    "        loss = loss + (1 - f)**2\n",
    "        \n",
    "    return loss / len(x)"
   ]
  },
  {
   "cell_type": "markdown",
   "metadata": {},
   "source": [
    "### Training\n",
    "\n",
    "We have now all the ingredients to train a single-qubit classifier with data re-uploading.  \n",
    "If a gradient based optimization is chosen for this type of optimization problems, numerical gradients are adviced since analytical ones become quite expensive."
   ]
  },
  {
   "cell_type": "code",
   "execution_count": 6,
   "metadata": {},
   "outputs": [
    {
     "name": "stdout",
     "output_type": "stream",
     "text": [
      "Optimizer: <class 'tequila.optimizers.optimizer_scipy.OptimizerSciPy'> \n",
      "backend         : qulacs\n",
      "backend_options : {}\n",
      "samples         : None\n",
      "save_history    : True\n",
      "noise           : None\n",
      "\n",
      "Method          : L-BFGS-B\n",
      "VectorObjective       : 400 expectationvalues\n",
      "grad instr      : 2-point\n",
      "gradient        : scipy numerical 2-point\n",
      "hessian         : scipy numerical None\n",
      "\n",
      "active variables : 6\n",
      "\n",
      "E=+0.22353218  angles= {th_4: 2.6648916022513665, th_3: 3.812103065077541, th_0: 4.443711395787703, th_2: 3.620926557298738, th_1: 0.9584310732101232, th_5: 4.62721560083436}  samples= None\n",
      "E=+0.22353719  angles= {th_4: 2.6649916022513667, th_3: 3.812103065077541, th_0: 4.443711395787703, th_2: 3.620926557298738, th_1: 0.9584310732101232, th_5: 4.62721560083436}  samples= None\n",
      "E=+0.22353132  angles= {th_4: 2.6648916022513665, th_3: 3.8122030650775414, th_0: 4.443711395787703, th_2: 3.620926557298738, th_1: 0.9584310732101232, th_5: 4.62721560083436}  samples= None\n",
      "E=+0.22352709  angles= {th_4: 2.6648916022513665, th_3: 3.812103065077541, th_0: 4.443811395787702, th_2: 3.620926557298738, th_1: 0.9584310732101232, th_5: 4.62721560083436}  samples= None\n",
      "E=+0.22352877  angles= {th_4: 2.6648916022513665, th_3: 3.812103065077541, th_0: 4.443711395787703, th_2: 3.6210265572987383, th_1: 0.9584310732101232, th_5: 4.62721560083436}  samples= None\n",
      "E=+0.22353476  angles= {th_4: 2.6648916022513665, th_3: 3.812103065077541, th_0: 4.443711395787703, th_2: 3.620926557298738, th_1: 0.9585310732101232, th_5: 4.62721560083436}  samples= None\n",
      "E=+0.22353218  angles= {th_4: 2.6648916022513665, th_3: 3.812103065077541, th_0: 4.443711395787703, th_2: 3.620926557298738, th_1: 0.9584310732101232, th_5: 4.627315600834359}  samples= None\n",
      "E=+0.24925716  angles= {th_4: 2.066790079061169, th_3: 3.9153467803901347, th_0: 5.052493303320582, th_2: 4.0285612263777715, th_1: 0.6504799913294561, th_5: 4.62721560083436}  samples= None\n",
      "E=+0.24924286  angles= {th_4: 2.066890079061169, th_3: 3.9153467803901347, th_0: 5.052493303320582, th_2: 4.0285612263777715, th_1: 0.6504799913294561, th_5: 4.62721560083436}  samples= None\n",
      "E=+0.24926825  angles= {th_4: 2.066790079061169, th_3: 3.915446780390135, th_0: 5.052493303320582, th_2: 4.0285612263777715, th_1: 0.6504799913294561, th_5: 4.62721560083436}  samples= None\n",
      "E=+0.24926428  angles= {th_4: 2.066790079061169, th_3: 3.9153467803901347, th_0: 5.052593303320582, th_2: 4.0285612263777715, th_1: 0.6504799913294561, th_5: 4.62721560083436}  samples= None\n",
      "E=+0.24925919  angles= {th_4: 2.066790079061169, th_3: 3.9153467803901347, th_0: 5.052493303320582, th_2: 4.028661226377771, th_1: 0.6504799913294561, th_5: 4.62721560083436}  samples= None\n",
      "E=+0.24926354  angles= {th_4: 2.066790079061169, th_3: 3.9153467803901347, th_0: 5.052493303320582, th_2: 4.0285612263777715, th_1: 0.6505799913294561, th_5: 4.62721560083436}  samples= None\n",
      "E=+0.24925716  angles= {th_4: 2.066790079061169, th_3: 3.9153467803901347, th_0: 5.052493303320582, th_2: 4.0285612263777715, th_1: 0.6504799913294561, th_5: 4.627315600834359}  samples= None\n",
      "E=+0.20606935  angles= {th_4: 2.441680832862457, th_3: 3.8506334955077697, th_0: 4.670908071772843, th_2: 3.7730553257215367, th_1: 0.8435040996854765, th_5: 4.62721560083436}  samples= None\n",
      "E=+0.20606691  angles= {th_4: 2.4417808328624573, th_3: 3.8506334955077697, th_0: 4.670908071772843, th_2: 3.7730553257215367, th_1: 0.8435040996854765, th_5: 4.62721560083436}  samples= None\n",
      "E=+0.20606965  angles= {th_4: 2.441680832862457, th_3: 3.85073349550777, th_0: 4.670908071772843, th_2: 3.7730553257215367, th_1: 0.8435040996854765, th_5: 4.62721560083436}  samples= None\n",
      "E=+0.20606920  angles= {th_4: 2.441680832862457, th_3: 3.8506334955077697, th_0: 4.671008071772842, th_2: 3.7730553257215367, th_1: 0.8435040996854765, th_5: 4.62721560083436}  samples= None\n",
      "E=+0.20606838  angles= {th_4: 2.441680832862457, th_3: 3.8506334955077697, th_0: 4.670908071772843, th_2: 3.773155325721537, th_1: 0.8435040996854765, th_5: 4.62721560083436}  samples= None\n",
      "E=+0.20607422  angles= {th_4: 2.441680832862457, th_3: 3.8506334955077697, th_0: 4.670908071772843, th_2: 3.7730553257215367, th_1: 0.8436040996854764, th_5: 4.62721560083436}  samples= None\n",
      "E=+0.20606935  angles= {th_4: 2.441680832862457, th_3: 3.8506334955077697, th_0: 4.670908071772843, th_2: 3.7730553257215367, th_1: 0.8435040996854765, th_5: 4.627315600834359}  samples= None\n",
      "E=+0.19574253  angles= {th_4: 2.441925388249297, th_3: 3.8547698537697808, th_0: 4.7596304309885955, th_2: 3.86178210681413, th_1: 0.6367307792418075, th_5: 4.62721560083436}  samples= None\n",
      "E=+0.19573942  angles= {th_4: 2.4420253882492973, th_3: 3.8547698537697808, th_0: 4.7596304309885955, th_2: 3.86178210681413, th_1: 0.6367307792418075, th_5: 4.62721560083436}  samples= None\n",
      "E=+0.19574253  angles= {th_4: 2.441925388249297, th_3: 3.854869853769781, th_0: 4.7596304309885955, th_2: 3.86178210681413, th_1: 0.6367307792418075, th_5: 4.62721560083436}  samples= None\n",
      "E=+0.19574307  angles= {th_4: 2.441925388249297, th_3: 3.8547698537697808, th_0: 4.759730430988595, th_2: 3.86178210681413, th_1: 0.6367307792418075, th_5: 4.62721560083436}  samples= None\n",
      "E=+0.19574009  angles= {th_4: 2.441925388249297, th_3: 3.8547698537697808, th_0: 4.7596304309885955, th_2: 3.86188210681413, th_1: 0.6367307792418075, th_5: 4.62721560083436}  samples= None\n",
      "E=+0.19574623  angles= {th_4: 2.441925388249297, th_3: 3.8547698537697808, th_0: 4.7596304309885955, th_2: 3.86178210681413, th_1: 0.6368307792418075, th_5: 4.62721560083436}  samples= None\n",
      "E=+0.19574253  angles= {th_4: 2.441925388249297, th_3: 3.8547698537697808, th_0: 4.7596304309885955, th_2: 3.86178210681413, th_1: 0.6367307792418075, th_5: 4.627315600834359}  samples= None\n",
      "E=+0.23258892  angles= {th_4: 2.6709453141204174, th_3: 3.9663770646988312, th_0: 5.611793614555298, th_2: 5.258341903761094, th_1: -1.569421588476676, th_5: 4.62721560083436}  samples= None\n",
      "E=+0.23257568  angles= {th_4: 2.6710453141204176, th_3: 3.9663770646988312, th_0: 5.611793614555298, th_2: 5.258341903761094, th_1: -1.569421588476676, th_5: 4.62721560083436}  samples= None\n",
      "E=+0.23259674  angles= {th_4: 2.6709453141204174, th_3: 3.9664770646988314, th_0: 5.611793614555298, th_2: 5.258341903761094, th_1: -1.569421588476676, th_5: 4.62721560083436}  samples= None\n",
      "E=+0.23258550  angles= {th_4: 2.6709453141204174, th_3: 3.9663770646988312, th_0: 5.611893614555298, th_2: 5.258341903761094, th_1: -1.569421588476676, th_5: 4.62721560083436}  samples= None\n",
      "E=+0.23258741  angles= {th_4: 2.6709453141204174, th_3: 3.9663770646988312, th_0: 5.611793614555298, th_2: 5.258441903761094, th_1: -1.569421588476676, th_5: 4.62721560083436}  samples= None\n",
      "E=+0.23257276  angles= {th_4: 2.6709453141204174, th_3: 3.9663770646988312, th_0: 5.611793614555298, th_2: 5.258341903761094, th_1: -1.569321588476676, th_5: 4.62721560083436}  samples= None\n",
      "E=+0.23258892  angles= {th_4: 2.6709453141204174, th_3: 3.9663770646988312, th_0: 5.611793614555298, th_2: 5.258341903761094, th_1: -1.569421588476676, th_5: 4.627315600834359}  samples= None\n",
      "E=+0.18662792  angles= {th_4: 2.538854865402033, th_3: 3.902006043200371, th_0: 5.120296567429552, th_2: 4.452856487856316, th_1: -0.2969923224002752, th_5: 4.62721560083436}  samples= None\n",
      "E=+0.18662931  angles= {th_4: 2.538954865402033, th_3: 3.902006043200371, th_0: 5.120296567429552, th_2: 4.452856487856316, th_1: -0.2969923224002752, th_5: 4.62721560083436}  samples= None\n",
      "E=+0.18662220  angles= {th_4: 2.538854865402033, th_3: 3.902106043200371, th_0: 5.120296567429552, th_2: 4.452856487856316, th_1: -0.2969923224002752, th_5: 4.62721560083436}  samples= None\n",
      "E=+0.18662398  angles= {th_4: 2.538854865402033, th_3: 3.902006043200371, th_0: 5.120396567429552, th_2: 4.452856487856316, th_1: -0.2969923224002752, th_5: 4.62721560083436}  samples= None\n",
      "E=+0.18661743  angles= {th_4: 2.538854865402033, th_3: 3.902006043200371, th_0: 5.120296567429552, th_2: 4.452956487856316, th_1: -0.2969923224002752, th_5: 4.62721560083436}  samples= None\n",
      "E=+0.18661487  angles= {th_4: 2.538854865402033, th_3: 3.902006043200371, th_0: 5.120296567429552, th_2: 4.452856487856316, th_1: -0.2968923224002752, th_5: 4.62721560083436}  samples= None\n"
     ]
    },
    {
     "name": "stdout",
     "output_type": "stream",
     "text": [
      "E=+0.18662792  angles= {th_4: 2.538854865402033, th_3: 3.902006043200371, th_0: 5.120296567429552, th_2: 4.452856487856316, th_1: -0.2969923224002752, th_5: 4.627315600834359}  samples= None\n",
      "E=+0.16143657  angles= {th_4: 2.5117446043300973, th_3: 3.9591984361421106, th_0: 5.142813107107152, th_2: 4.49683042228044, th_1: -0.0866260319230222, th_5: 4.62721560083436}  samples= None\n",
      "E=+0.16143379  angles= {th_4: 2.5118446043300975, th_3: 3.9591984361421106, th_0: 5.142813107107152, th_2: 4.49683042228044, th_1: -0.0866260319230222, th_5: 4.62721560083436}  samples= None\n",
      "E=+0.16143703  angles= {th_4: 2.5117446043300973, th_3: 3.959298436142111, th_0: 5.142813107107152, th_2: 4.49683042228044, th_1: -0.0866260319230222, th_5: 4.62721560083436}  samples= None\n",
      "E=+0.16143961  angles= {th_4: 2.5117446043300973, th_3: 3.9591984361421106, th_0: 5.142913107107152, th_2: 4.49683042228044, th_1: -0.0866260319230222, th_5: 4.62721560083436}  samples= None\n",
      "E=+0.16142784  angles= {th_4: 2.5117446043300973, th_3: 3.9591984361421106, th_0: 5.142813107107152, th_2: 4.49693042228044, th_1: -0.0866260319230222, th_5: 4.62721560083436}  samples= None\n",
      "E=+0.16143179  angles= {th_4: 2.5117446043300973, th_3: 3.9591984361421106, th_0: 5.142813107107152, th_2: 4.49683042228044, th_1: -0.0865260319230222, th_5: 4.62721560083436}  samples= None\n",
      "E=+0.16143657  angles= {th_4: 2.5117446043300973, th_3: 3.9591984361421106, th_0: 5.142813107107152, th_2: 4.49683042228044, th_1: -0.0866260319230222, th_5: 4.627315600834359}  samples= None\n",
      "E=+0.13621894  angles= {th_4: 2.595470294587999, th_3: 4.008439266637063, th_0: 5.171920379460388, th_2: 4.842744826894944, th_1: -0.031852363709532344, th_5: 4.62721560083436}  samples= None\n",
      "E=+0.13621530  angles= {th_4: 2.5955702945879993, th_3: 4.008439266637063, th_0: 5.171920379460388, th_2: 4.842744826894944, th_1: -0.031852363709532344, th_5: 4.62721560083436}  samples= None\n",
      "E=+0.13622257  angles= {th_4: 2.595470294587999, th_3: 4.0085392666370625, th_0: 5.171920379460388, th_2: 4.842744826894944, th_1: -0.031852363709532344, th_5: 4.62721560083436}  samples= None\n",
      "E=+0.13622519  angles= {th_4: 2.595470294587999, th_3: 4.008439266637063, th_0: 5.172020379460387, th_2: 4.842744826894944, th_1: -0.031852363709532344, th_5: 4.62721560083436}  samples= None\n",
      "E=+0.13621445  angles= {th_4: 2.595470294587999, th_3: 4.008439266637063, th_0: 5.171920379460388, th_2: 4.842844826894944, th_1: -0.031852363709532344, th_5: 4.62721560083436}  samples= None\n",
      "E=+0.13622068  angles= {th_4: 2.595470294587999, th_3: 4.008439266637063, th_0: 5.171920379460388, th_2: 4.842744826894944, th_1: -0.03175236370953234, th_5: 4.62721560083436}  samples= None\n",
      "E=+0.13621894  angles= {th_4: 2.595470294587999, th_3: 4.008439266637063, th_0: 5.171920379460388, th_2: 4.842744826894944, th_1: -0.031852363709532344, th_5: 4.627315600834359}  samples= None\n",
      "E=+0.12757301  angles= {th_4: 2.7281483858735647, th_3: 4.020988812340942, th_0: 5.158198394149873, th_2: 5.334896188374111, th_1: -0.11977159481535904, th_5: 4.62721560083436}  samples= None\n",
      "E=+0.12757371  angles= {th_4: 2.728248385873565, th_3: 4.020988812340942, th_0: 5.158198394149873, th_2: 5.334896188374111, th_1: -0.11977159481535904, th_5: 4.62721560083436}  samples= None\n",
      "E=+0.12757476  angles= {th_4: 2.7281483858735647, th_3: 4.021088812340942, th_0: 5.158198394149873, th_2: 5.334896188374111, th_1: -0.11977159481535904, th_5: 4.62721560083436}  samples= None\n",
      "E=+0.12757920  angles= {th_4: 2.7281483858735647, th_3: 4.020988812340942, th_0: 5.158298394149873, th_2: 5.334896188374111, th_1: -0.11977159481535904, th_5: 4.62721560083436}  samples= None\n",
      "E=+0.12757644  angles= {th_4: 2.7281483858735647, th_3: 4.020988812340942, th_0: 5.158198394149873, th_2: 5.33499618837411, th_1: -0.11977159481535904, th_5: 4.62721560083436}  samples= None\n",
      "E=+0.12757772  angles= {th_4: 2.7281483858735647, th_3: 4.020988812340942, th_0: 5.158198394149873, th_2: 5.334896188374111, th_1: -0.11967159481535904, th_5: 4.62721560083436}  samples= None\n",
      "E=+0.12757301  angles= {th_4: 2.7281483858735647, th_3: 4.020988812340942, th_0: 5.158198394149873, th_2: 5.334896188374111, th_1: -0.11977159481535904, th_5: 4.627315600834359}  samples= None\n",
      "E=+0.11798258  angles= {th_4: 2.657259351130332, th_3: 3.9715401783644015, th_0: 4.880944138681362, th_2: 5.124691010164812, th_1: 0.06695971976944518, th_5: 4.62721560083436}  samples= None\n",
      "E=+0.11798181  angles= {th_4: 2.6573593511303324, th_3: 3.9715401783644015, th_0: 4.880944138681362, th_2: 5.124691010164812, th_1: 0.06695971976944518, th_5: 4.62721560083436}  samples= None\n",
      "E=+0.11798450  angles= {th_4: 2.657259351130332, th_3: 3.9716401783644018, th_0: 4.880944138681362, th_2: 5.124691010164812, th_1: 0.06695971976944518, th_5: 4.62721560083436}  samples= None\n",
      "E=+0.11798456  angles= {th_4: 2.657259351130332, th_3: 3.9715401783644015, th_0: 4.881044138681362, th_2: 5.124691010164812, th_1: 0.06695971976944518, th_5: 4.62721560083436}  samples= None\n",
      "E=+0.11798280  angles= {th_4: 2.657259351130332, th_3: 3.9715401783644015, th_0: 4.880944138681362, th_2: 5.124791010164812, th_1: 0.06695971976944518, th_5: 4.62721560083436}  samples= None\n",
      "E=+0.11798488  angles= {th_4: 2.657259351130332, th_3: 3.9715401783644015, th_0: 4.880944138681362, th_2: 5.124691010164812, th_1: 0.06705971976944518, th_5: 4.62721560083436}  samples= None\n",
      "E=+0.11798258  angles= {th_4: 2.657259351130332, th_3: 3.9715401783644015, th_0: 4.880944138681362, th_2: 5.124691010164812, th_1: 0.06695971976944518, th_5: 4.627315600834359}  samples= None\n",
      "E=+0.11686952  angles= {th_4: 2.645522723508098, th_3: 3.9409478268891758, th_0: 4.837714978157139, th_2: 5.147505224695264, th_1: 0.03038661513229869, th_5: 4.62721560083436}  samples= None\n",
      "E=+0.11687052  angles= {th_4: 2.6456227235080982, th_3: 3.9409478268891758, th_0: 4.837714978157139, th_2: 5.147505224695264, th_1: 0.03038661513229869, th_5: 4.62721560083436}  samples= None\n",
      "E=+0.11686936  angles= {th_4: 2.645522723508098, th_3: 3.941047826889176, th_0: 4.837714978157139, th_2: 5.147505224695264, th_1: 0.03038661513229869, th_5: 4.62721560083436}  samples= None\n",
      "E=+0.11686963  angles= {th_4: 2.645522723508098, th_3: 3.9409478268891758, th_0: 4.837814978157139, th_2: 5.147505224695264, th_1: 0.03038661513229869, th_5: 4.62721560083436}  samples= None\n",
      "E=+0.11686864  angles= {th_4: 2.645522723508098, th_3: 3.9409478268891758, th_0: 4.837714978157139, th_2: 5.147605224695264, th_1: 0.03038661513229869, th_5: 4.62721560083436}  samples= None\n",
      "E=+0.11686897  angles= {th_4: 2.645522723508098, th_3: 3.9409478268891758, th_0: 4.837714978157139, th_2: 5.147505224695264, th_1: 0.03048661513229869, th_5: 4.62721560083436}  samples= None\n",
      "E=+0.11686952  angles= {th_4: 2.645522723508098, th_3: 3.9409478268891758, th_0: 4.837714978157139, th_2: 5.147505224695264, th_1: 0.03038661513229869, th_5: 4.627315600834359}  samples= None\n",
      "E=+0.11655828  angles= {th_4: 2.625257906514251, th_3: 3.932354666998933, th_0: 4.808289883658689, th_2: 5.179301978144586, th_1: 0.02704848745272591, th_5: 4.62721560083436}  samples= None\n",
      "E=+0.11655869  angles= {th_4: 2.6253579065142514, th_3: 3.932354666998933, th_0: 4.808289883658689, th_2: 5.179301978144586, th_1: 0.02704848745272591, th_5: 4.62721560083436}  samples= None\n",
      "E=+0.11655852  angles= {th_4: 2.625257906514251, th_3: 3.9324546669989333, th_0: 4.808289883658689, th_2: 5.179301978144586, th_1: 0.02704848745272591, th_5: 4.62721560083436}  samples= None\n",
      "E=+0.11655795  angles= {th_4: 2.625257906514251, th_3: 3.932354666998933, th_0: 4.8083898836586885, th_2: 5.179301978144586, th_1: 0.02704848745272591, th_5: 4.62721560083436}  samples= None\n",
      "E=+0.11655773  angles= {th_4: 2.625257906514251, th_3: 3.932354666998933, th_0: 4.808289883658689, th_2: 5.179401978144586, th_1: 0.02704848745272591, th_5: 4.62721560083436}  samples= None\n",
      "E=+0.11655769  angles= {th_4: 2.625257906514251, th_3: 3.932354666998933, th_0: 4.808289883658689, th_2: 5.179301978144586, th_1: 0.027148487452725908, th_5: 4.62721560083436}  samples= None\n",
      "E=+0.11655828  angles= {th_4: 2.625257906514251, th_3: 3.932354666998933, th_0: 4.808289883658689, th_2: 5.179301978144586, th_1: 0.02704848745272591, th_5: 4.627315600834359}  samples= None\n"
     ]
    }
   ],
   "source": [
    "layers = 3\n",
    "nclass = 2\n",
    "training_set = 400\n",
    "\n",
    "# generate the training set and its corresponding labels\n",
    "xdata, ydata = circle(training_set)\n",
    "\n",
    "# generate the variational parameters\n",
    "param = [tq.Variable(name='th_{}'.format(i)) for i in range(0,2*layers)]\n",
    "\n",
    "# initialize the variational parameters\n",
    "# note that due to the random initialization the result can be different from time to time\n",
    "# With gradient based optimization you might get stuck\n",
    "inval = {key : random.uniform(0, 2*np.pi) for key in param}\n",
    "\n",
    "grad = '2-point' # numerical gradient (= None: analytical gradient)\n",
    "mthd = 'L-BFGS-B' # scipy minimization method\n",
    "mthd_opt = {'eps':1.e-4} # method options (thats the stepsize for the gradients)\n",
    "\n",
    "obj = cost(xdata, ydata, param, nclass) # objective to be optimized: cost function\n",
    "\n",
    "t0 = time.time()\n",
    "# depending on the optimizer this will take a while\n",
    "test = tq.minimize(objective=obj, initial_values=inval, method = mthd,\n",
    "                                   gradient = grad, method_options = mthd_opt, silent=False)\n",
    "t1 = time.time()"
   ]
  },
  {
   "cell_type": "markdown",
   "metadata": {},
   "source": [
    "Extract the results:"
   ]
  },
  {
   "cell_type": "code",
   "execution_count": 7,
   "metadata": {},
   "outputs": [
    {
     "name": "stdout",
     "output_type": "stream",
     "text": [
      "loss =  0.11655827611684799\n",
      "method:  L-BFGS-B\n",
      "method parameters:  {'eps': 0.0001, 'maxiter': 100, 'disp': True}\n",
      "execution time =  3.1455427487691243  min\n"
     ]
    },
    {
     "data": {
      "image/png": "[encoded data removed]",
      "text/plain": [
       "<Figure size 432x288 with 1 Axes>"
      ]
     },
     "metadata": {
      "needs_background": "light"
     },
     "output_type": "display_data"
    },
    {
     "name": "stdout",
     "output_type": "stream",
     "text": [
      "None\n"
     ]
    },
    {
     "data": {
      "image/png": "[encoded data removed]",
      "text/plain": [
       "<Figure size 432x288 with 1 Axes>"
      ]
     },
     "metadata": {
      "needs_background": "light"
     },
     "output_type": "display_data"
    },
    {
     "name": "stdout",
     "output_type": "stream",
     "text": [
      "None\n"
     ]
    }
   ],
   "source": [
    "print(\"loss = \", test.energy)\n",
    "print(\"method: \", mthd)\n",
    "print(\"method parameters: \", mthd_opt)\n",
    "print(\"execution time = \", (t1-t0)/60, \" min\")\n",
    "\n",
    "print(test.history.plot('energies', label='loss'))\n",
    "print(test.history.plot('angles', label=\"\"))"
   ]
  },
  {
   "cell_type": "markdown",
   "metadata": {},
   "source": [
    "### Test\n",
    "\n",
    "Once trained, we have the optimal parameters for the classifier stored in `test.angles`. We run again the classifier with the test data set and with these parameters fixed."
   ]
  },
  {
   "cell_type": "code",
   "execution_count": 8,
   "metadata": {},
   "outputs": [
    {
     "name": "stdout",
     "output_type": "stream",
     "text": [
      "success %:  86.4 %\n",
      "random success %:  50.7 %\n"
     ]
    }
   ],
   "source": [
    "test_set = 1000\n",
    "\n",
    "# initialize\n",
    "xval_test, yval_test, yval_rand, yval_real = [], [], [], []\n",
    "suc = 0 # success\n",
    "suc_rand = 0 # random success\n",
    "\n",
    "for i in range(test_set):\n",
    "    \n",
    "    # random test point\n",
    "    x = 2 * (np.random.rand(2)) - 1\n",
    "    \n",
    "    # state generated by the trained classifier\n",
    "    qc = qcircuit(x, param)\n",
    "    wfn_qc = tq.simulate(qc, variables=test.angles) \n",
    "        \n",
    "    if nclass == 2:\n",
    "        \n",
    "        # compute the fidelity respect to one of the label states, the |0>\n",
    "        f = abs(wfn_qc.inner(targ_wfn(0,nclass)))**2\n",
    "\n",
    "        y = 1\n",
    "        # if fidelity is >= 0.5, we conclude that this state belongs to |0> class\n",
    "        # (|1> class otherwise)\n",
    "        if f >= 0.5:\n",
    "            y = 0\n",
    "            \n",
    "        # check the real class of the data point\n",
    "        y_real = circle(random=False, x_input=x)\n",
    "        \n",
    "    else:\n",
    "        raise Exception(\"nclass = {} is not considered\".format(nclass))\n",
    "    \n",
    "    # compute success rate \n",
    "    if y == y_real:\n",
    "        suc = suc + 1\n",
    "        \n",
    "    # compute random success rate \n",
    "    yrand = np.random.randint(0, nclass-1)\n",
    "    if yrand == y_real:\n",
    "        suc_rand = suc_rand + 1\n",
    "        \n",
    "    xval_test.append(x)\n",
    "    yval_test.append(y)\n",
    "    yval_real.append(y_real)\n",
    "    \n",
    "print(\"success %: \", 100*suc/test_set,\"%\")\n",
    "print(\"random success %: \", 100*suc_rand/test_set,\"%\")"
   ]
  },
  {
   "cell_type": "markdown",
   "metadata": {},
   "source": [
    "Print results:"
   ]
  },
  {
   "cell_type": "code",
   "execution_count": 9,
   "metadata": {},
   "outputs": [],
   "source": [
    "def plot_data(x, y, nclass, fig=None, ax=None):\n",
    "    \"\"\"\n",
    "    Arg:\n",
    "        - x (array[tuple]): data points\n",
    "        - y (array[int]): data labels\n",
    "        - nclass (int): number of classes\n",
    "    Returns:\n",
    "        - Plot\n",
    "    \"\"\"    \n",
    "    if fig == None:\n",
    "        fig, ax = plt.subplots(1, 1, figsize=(5, 5))\n",
    "     \n",
    "    # colors and labels\n",
    "    col = [\"red\",\"blue\",\"green\",\"yellow\"]\n",
    "    lab = [0,1,2,3]\n",
    "    \n",
    "    for i in range(nclass):\n",
    "        ax.scatter(x[y == lab[i], 0], x[y == lab[i], 1], c=col[i], s=20, edgecolor=\"k\")\n",
    "    ax.set_xlabel(\"$x_1$\")\n",
    "    ax.set_ylabel(\"$x_2$\")"
   ]
  },
  {
   "cell_type": "code",
   "execution_count": 10,
   "metadata": {},
   "outputs": [
    {
     "data": {
      "image/png": "[encoded data removed]",
      "text/plain": [
       "<Figure size 432x216 with 2 Axes>"
      ]
     },
     "metadata": {
      "needs_background": "light"
     },
     "output_type": "display_data"
    },
    {
     "name": "stdout",
     "output_type": "stream",
     "text": [
      "Total execution time:  3.3208048224449156  min.\n"
     ]
    }
   ],
   "source": [
    "xval_test = np.array(xval_test)\n",
    "yval_test = np.array(yval_test)\n",
    "yval_real = np.array(yval_real)\n",
    "\n",
    "fig, axes = plt.subplots(1, 2, figsize=(6, 3))\n",
    "\n",
    "plot_data(xval_test, yval_test, nclass, fig, axes[0])\n",
    "plot_data(xval_test, yval_real, nclass, fig, axes[1])\n",
    "\n",
    "axes[0].set_title(\"Single-qubit class. {} layers\".format(layers))\n",
    "axes[1].set_title(\"True test data\")\n",
    "fig.tight_layout(pad=0.5)\n",
    "plt.show()\n",
    "\n",
    "t2 = time.time()\n",
    "print(\"Total execution time: \", (t2-t0)/60,\" min.\")"
   ]
  },
  {
   "cell_type": "markdown",
   "metadata": {},
   "source": [
    "### Improvements and customization\n",
    "\n",
    "This tutorial just shows a simple classification example. It is constructed in a way that one can easily change the classification model and try more sophisticated problems comprising more classes. To do so, one should define the target states for >2 classes, i.e. include more vectors in the Bloch sphere.\n",
    "\n",
    "The single-qubit classifier circuit can also be modified to include higher dimensional data or to increase/reduce the number of parameters per layer.\n",
    "\n",
    "The cost function can also be improved. See for instance the weigthed fidelity cost function proposed in the main reference.\n",
    "\n",
    "Finally, the core of any variational algorithm is the minimization method. Tequila provides many methods besides the scipy ones. See the optimizers tutorial for more information.\n",
    "\n",
    "Note that random initialization \n",
    "\n",
    "One possibility to play with is to use Phoenics for initial exploration and a gradient based optimizer with the best phoenics results as starting point."
   ]
  },
  {
   "cell_type": "code",
   "execution_count": null,
   "metadata": {},
   "outputs": [],
   "source": []
  }
 ],
 "metadata": {
  "kernelspec": {
   "display_name": "tequila-3.6",
   "language": "python",
   "name": "tequila-3.6"
  },
  "language_info": {
   "codemirror_mode": {
    "name": "ipython",
    "version": 3
   },
   "file_extension": ".py",
   "mimetype": "text/x-python",
   "name": "python",
   "nbconvert_exporter": "python",
   "pygments_lexer": "ipython3",
   "version": "3.6.9"
  }
 },
 "nbformat": 4,
 "nbformat_minor": 4
}
